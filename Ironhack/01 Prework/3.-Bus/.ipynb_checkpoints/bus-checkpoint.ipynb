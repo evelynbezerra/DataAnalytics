{
 "cells": [
  {
   "cell_type": "markdown",
   "metadata": {},
   "source": [
    "<img src=\"https://bit.ly/2VnXWr2\" width=\"100\" align=\"left\">"
   ]
  },
  {
   "cell_type": "markdown",
   "metadata": {},
   "source": [
    "# Bus\n",
    "\n",
    "This bus has a passenger entry and exit control system to monitor the number of occupants it carries and thus detect when there are too many.\n",
    "\n",
    "At each stop, the entry and exit of passengers is represented by a tuple consisting of two integer numbers.\n",
    "```\n",
    "bus_stop = (in, out)\n",
    "```\n",
    "The succession of stops is represented by a list of these tuples.\n",
    "```\n",
    "stops = [(in1, out1), (in2, out2), (in3, out3), (in4, out4)]\n",
    "```\n",
    "\n",
    "## Tools\n",
    "You don't necessarily need to use all the tools. Maybe you opt to use some of them or completely different ones, they are given to help you shape the exercise. Programming exercises can be solved in many different ways.\n",
    "* Data structures: **lists, tuples**\n",
    "* Loop: **while/for loops**\n",
    "* Functions: **min, max, len**\n",
    "\n",
    "## Tasks"
   ]
  },
  {
   "cell_type": "code",
   "execution_count": 1,
   "metadata": {},
   "outputs": [],
   "source": [
    "# Variables\n",
    "stops = [(10, 0), (4, 1), (3, 5), (3, 4), (5, 1), (1, 5), (5, 8), (4, 6), (2, 3)]"
   ]
  },
  {
   "cell_type": "markdown",
   "metadata": {},
   "source": [
    "#### 1. Calculate the number of stops."
   ]
  },
  {
   "cell_type": "code",
   "execution_count": 2,
   "metadata": {},
   "outputs": [
    {
     "data": {
      "text/plain": [
       "9"
      ]
     },
     "execution_count": 2,
     "metadata": {},
     "output_type": "execute_result"
    }
   ],
   "source": [
    "len(stops)"
   ]
  },
  {
   "cell_type": "markdown",
   "metadata": {},
   "source": [
    "#### 2. Assign to a variable a list whose elements are the number of passengers at each stop (in-out).\n",
    "Each item depends on the previous item in the list + in - out."
   ]
  },
  {
   "cell_type": "code",
   "execution_count": 71,
   "metadata": {},
   "outputs": [
    {
     "name": "stdout",
     "output_type": "stream",
     "text": [
      "10 0\n",
      "Viagem 0 Entraram 10 e sairam 0 ficaram 10 passageiros\n",
      "Viagem 1 Entraram 4 e sairam 1 ficaram 13 passageiros\n",
      "Viagem 2 Entraram 3 e sairam 5 ficaram 11 passageiros\n",
      "Viagem 3 Entraram 3 e sairam 4 ficaram 10 passageiros\n",
      "Viagem 4 Entraram 5 e sairam 1 ficaram 14 passageiros\n",
      "Viagem 5 Entraram 1 e sairam 5 ficaram 10 passageiros\n",
      "Viagem 6 Entraram 5 e sairam 8 ficaram 7 passageiros\n",
      "Viagem 7 Entraram 4 e sairam 6 ficaram 5 passageiros\n",
      "Viagem 8 Entraram 2 e sairam 3 ficaram 4 passageiros\n"
     ]
    }
   ],
   "source": [
    "print(stops[0][0],stops[0][1])\n",
    "occup=0\n",
    "i=0\n",
    "total_occup=[]\n",
    "      \n",
    "for i in range(0,9):\n",
    "    occup+=(stops[i][0])-(stops[i][1])\n",
    "    total_occup.append(occup)\n",
    "    print(\"Viagem\",i, \"Entraram\", stops[i][0], \"e sairam\",stops[i][1], \"ficaram\", occup, \"passageiros\")\n"
   ]
  },
  {
   "cell_type": "markdown",
   "metadata": {},
   "source": [
    "#### 3. Find the maximum occupation of the bus."
   ]
  },
  {
   "cell_type": "code",
   "execution_count": 72,
   "metadata": {},
   "outputs": [
    {
     "data": {
      "text/plain": [
       "14"
      ]
     },
     "execution_count": 72,
     "metadata": {},
     "output_type": "execute_result"
    }
   ],
   "source": [
    "max(total_occup)"
   ]
  },
  {
   "cell_type": "markdown",
   "metadata": {},
   "source": [
    "#### 4. Calculate the average occupation. And the standard deviation."
   ]
  },
  {
   "cell_type": "code",
   "execution_count": 91,
   "metadata": {},
   "outputs": [
    {
     "name": "stdout",
     "output_type": "stream",
     "text": [
      "[10, 4, 3, 3, 5, 1, 5, 4, 2]\n",
      "A média é de 4 passageiros.\n",
      "A mediana é 5\n"
     ]
    }
   ],
   "source": [
    "pass_in=0\n",
    "pass_inlist=[]\n",
    "for n in range(0,9):\n",
    "    pass_in=stops[n][0] \n",
    "    pass_inlist.append(pass_in)\n",
    "print(pass_inlist)\n",
    "print(\"A média é de\",int(sum(pass_inlist)/len(pass_inlist)),\"passageiros.\")\n",
    "print(\"A mediana é\", pass_inlist[4])\n"
   ]
  },
  {
   "cell_type": "code",
   "execution_count": 93,
   "metadata": {},
   "outputs": [
    {
     "name": "stdout",
     "output_type": "stream",
     "text": [
      "O desvio padrão é???? Eu não sei calcular :(\n"
     ]
    }
   ],
   "source": [
    "print(\"O desvio padrão é???? Eu não sei calcular :(\")"
   ]
  },
  {
   "cell_type": "code",
   "execution_count": 99,
   "metadata": {},
   "outputs": [
    {
     "data": {
      "text/plain": [
       "2.5712081034235856"
      ]
     },
     "execution_count": 99,
     "metadata": {},
     "output_type": "execute_result"
    }
   ],
   "source": [
    "from statistics import stdev\n",
    "stdev(pass_inlist)"
   ]
  },
  {
   "cell_type": "code",
   "execution_count": null,
   "metadata": {},
   "outputs": [],
   "source": []
  }
 ],
 "metadata": {
  "kernelspec": {
   "display_name": "Python 3",
   "language": "python",
   "name": "python3"
  },
  "language_info": {
   "codemirror_mode": {
    "name": "ipython",
    "version": 3
   },
   "file_extension": ".py",
   "mimetype": "text/x-python",
   "name": "python",
   "nbconvert_exporter": "python",
   "pygments_lexer": "ipython3",
   "version": "3.7.5"
  }
 },
 "nbformat": 4,
 "nbformat_minor": 2
}
