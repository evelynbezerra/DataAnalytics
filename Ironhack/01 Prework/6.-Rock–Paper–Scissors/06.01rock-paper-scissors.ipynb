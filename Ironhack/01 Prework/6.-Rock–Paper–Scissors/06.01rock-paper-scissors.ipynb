{
 "cells": [
  {
   "cell_type": "markdown",
   "metadata": {},
   "source": [
    "<img src=\"https://bit.ly/2VnXWr2\" width=\"100\" align=\"left\">"
   ]
  },
  {
   "cell_type": "markdown",
   "metadata": {
    "toc-hr-collapsed": true
   },
   "source": [
    "# Rock, Paper & Scissors\n",
    "\n",
    "Let's play the famous game against our computer. You can check the rules [here](https://en.wikipedia.org/wiki/Rock%E2%80%93paper%E2%80%93scissors). \n",
    "\n",
    "## Task\n",
    "Create a program that imitates the playability of the well known game of rock, paper, scissors. Follow the guidelines provided.\n",
    "\n",
    "## Tools\n",
    "1. Loop: **for/while**\n",
    "2. Functions: **input(), print()...**\n",
    "3. Conditional statements: **if, elif, else**\n",
    "4. Definition of functions. Modular programming\n",
    "5. Import modules\n",
    "\n",
    "**To solve this challenge, the use of functions is recommended.**\n",
    "\n",
    "#### 1. Import the choice function of the random module."
   ]
  },
  {
   "cell_type": "code",
   "execution_count": 8,
   "metadata": {},
   "outputs": [],
   "source": [
    "import random"
   ]
  },
  {
   "cell_type": "markdown",
   "metadata": {},
   "source": [
    "#### 2. Create a list that includes the 3 possible gesture options of the game: 'rock', 'paper' or 'scissors'. Store the list in a variable called `gestures`."
   ]
  },
  {
   "cell_type": "code",
   "execution_count": 9,
   "metadata": {},
   "outputs": [],
   "source": [
    "gestures=[\"Pedra\",\"Papel\",\"Tesoura\"]\n"
   ]
  },
  {
   "cell_type": "markdown",
   "metadata": {},
   "source": [
    "#### 3. Create a variable called `n_rounds` to store the maximum number of rounds to play in a game. \n",
    "Remember that the number of rounds must be odd: 1, 3, 5, ..."
   ]
  },
  {
   "cell_type": "code",
   "execution_count": 10,
   "metadata": {},
   "outputs": [],
   "source": [
    "n_rounds=3"
   ]
  },
  {
   "cell_type": "markdown",
   "metadata": {},
   "source": [
    "#### 4. Create a variable called `rounds_to_win` to store the number of rounds that a player must win to win the game.\n",
    "**Hint**: the value stored in `rounds_to_win` depends on the value of `n_rounds`. "
   ]
  },
  {
   "cell_type": "markdown",
   "metadata": {},
   "source": [
    "# -> Função para definir quantos rounds deve jogar e quantos ganhar"
   ]
  },
  {
   "cell_type": "code",
   "execution_count": 11,
   "metadata": {},
   "outputs": [],
   "source": [
    "def round_store():\n",
    "    '''\n",
    "    Esta funçao pergunda quantos jogos pretende jogar e calcula qual o minimo\n",
    "    de partidas deve ser jogada para definir o vencedor\n",
    "    '''\n",
    "    global n_rounds\n",
    "    global rounds_to_win\n",
    "    n_rounds=0\n",
    "    \n",
    "    while n_rounds==0:\n",
    "        try:\n",
    "            n_rounds=(input(\"How many rounds do you wanna play? (1-9)\"))\n",
    "            n_rounds=int(n_rounds) \n",
    "            if (int(n_rounds)%2) == 0:\n",
    "                rounds_to_win = int(n_rounds)/2+1\n",
    "                print(\"You should win\", int(rounds_to_win),\"rounds\")  \n",
    "            else:\n",
    "                rounds_to_win = int(round(int(n_rounds)/2+.5))\n",
    "                print(\"You should win\", int(rounds_to_win),\"rounds\")  \n",
    "        except:\n",
    "            n_rounds=0"
   ]
  },
  {
   "cell_type": "code",
   "execution_count": 13,
   "metadata": {},
   "outputs": [
    {
     "name": "stdin",
     "output_type": "stream",
     "text": [
      "How many rounds do you wanna play? (1-9) 3\n"
     ]
    },
    {
     "name": "stdout",
     "output_type": "stream",
     "text": [
      "You should win 2 rounds\n"
     ]
    }
   ],
   "source": [
    "round_store()"
   ]
  },
  {
   "cell_type": "markdown",
   "metadata": {},
   "source": [
    "#### 5. Create two variables to store the number of rounds that the computer and the player have won. Call these variables `cpu_score` and `player_score`."
   ]
  },
  {
   "cell_type": "code",
   "execution_count": 14,
   "metadata": {},
   "outputs": [],
   "source": [
    "cpu_score=0\n",
    "player_score=0"
   ]
  },
  {
   "cell_type": "markdown",
   "metadata": {},
   "source": [
    "#### 6. Define a function that randomly returns one of the 3 gesture options.\n",
    "You will use this function to simulate the gesture choice of the computer. "
   ]
  },
  {
   "cell_type": "code",
   "execution_count": 15,
   "metadata": {},
   "outputs": [],
   "source": [
    "\n",
    "def cpu():\n",
    "    global cpu_gesture\n",
    "    global gestures\n",
    "    cpu_gesture=random.choice(gestures)\n",
    "    print(\"CPU Choice:\",cpu_gesture)\n"
   ]
  },
  {
   "cell_type": "code",
   "execution_count": 16,
   "metadata": {},
   "outputs": [
    {
     "name": "stdout",
     "output_type": "stream",
     "text": [
      "CPU Choice: Pedra\n"
     ]
    }
   ],
   "source": [
    "cpu()"
   ]
  },
  {
   "cell_type": "markdown",
   "metadata": {},
   "source": [
    "#### 7. Define a function that asks the player which is the gesture he or she wants to show: 'rock', 'paper' or 'scissors'.\n",
    "The player should only be allowed to choose one of the 3 gesture options. If the player's choice is not rock, paper or scissors, keep asking until it is."
   ]
  },
  {
   "cell_type": "code",
   "execution_count": 17,
   "metadata": {},
   "outputs": [],
   "source": [
    "\n",
    "def player():\n",
    "    global player_gesture\n",
    "    global gestures\n",
    "    player_gesture=input(\"Escolha uma das opções:  Pedra, Papel ou Tesoura: \")\n",
    "    while player_gesture not in [\"Pedra\",\"Papel\",\"Tesoura\"]:\n",
    "        player_gesture=input(\"Escreva corretamente uma das opções:  Pedra, Papel ou Tesoura: \")\n",
    "    else:\n",
    "        return print('Player Choice:',player_gesture)"
   ]
  },
  {
   "cell_type": "code",
   "execution_count": 18,
   "metadata": {},
   "outputs": [
    {
     "name": "stdin",
     "output_type": "stream",
     "text": [
      "Escolha uma das opções:  Pedra, Papel ou Tesoura:  \n",
      "Escreva corretamente uma das opções:  Pedra, Papel ou Tesoura:  \n",
      "Escreva corretamente uma das opções:  Pedra, Papel ou Tesoura:  Pedra\n"
     ]
    },
    {
     "name": "stdout",
     "output_type": "stream",
     "text": [
      "Player Choice: Pedra\n"
     ]
    }
   ],
   "source": [
    "player()"
   ]
  },
  {
   "cell_type": "markdown",
   "metadata": {
    "toc-hr-collapsed": true
   },
   "source": [
    "# -> Função única para definir a jogada do computador e do player"
   ]
  },
  {
   "cell_type": "code",
   "execution_count": 19,
   "metadata": {},
   "outputs": [],
   "source": [
    "def cpueplayer():\n",
    "    global cpu_gesture\n",
    "    global player_gesture\n",
    "    \n",
    "    gestures=[\"Pedra\",\"Papel\",\"Tesoura\"]\n",
    "    cpu_gesture=random.choice(gestures)\n",
    "    player_gesture=input(\"Escolha uma das opções:  Pedra, Papel ou Tesoura: \")\n",
    "    while player_gesture not in [\"Pedra\",\"Papel\",\"Tesoura\"]:\n",
    "        player_gesture=input(\"Escreva corretamente uma das opções:  Pedra, Papel ou Tesoura: \")\n",
    "    else:\n",
    "        return print('\\nPlayer Choice:',player_gesture, \" x CPU Choice:\",cpu_gesture)\n",
    "    \n"
   ]
  },
  {
   "cell_type": "code",
   "execution_count": 20,
   "metadata": {},
   "outputs": [
    {
     "name": "stdin",
     "output_type": "stream",
     "text": [
      "Escolha uma das opções:  Pedra, Papel ou Tesoura:  Pedra\n"
     ]
    },
    {
     "name": "stdout",
     "output_type": "stream",
     "text": [
      "\n",
      "Player Choice: Pedra  x CPU Choice: Pedra\n"
     ]
    }
   ],
   "source": [
    "cpueplayer()"
   ]
  },
  {
   "cell_type": "markdown",
   "metadata": {},
   "source": [
    "#### 8. Define a function that checks who won a round. \n",
    "The function should return 0 if there is a tie, 1 if the computer wins and 2 if the player wins."
   ]
  },
  {
   "cell_type": "code",
   "execution_count": 21,
   "metadata": {},
   "outputs": [
    {
     "data": {
      "text/plain": [
       "('Pedra', 'Pedra')"
      ]
     },
     "execution_count": 21,
     "metadata": {},
     "output_type": "execute_result"
    }
   ],
   "source": [
    "player_gesture, cpu_gesture"
   ]
  },
  {
   "cell_type": "markdown",
   "metadata": {
    "toc-hr-collapsed": true
   },
   "source": [
    "-> Função para definir quem ganhou"
   ]
  },
  {
   "cell_type": "code",
   "execution_count": 22,
   "metadata": {},
   "outputs": [],
   "source": [
    "def who_won(player_gesture,cpu_gesture):\n",
    "    if player_gesture == \"Pedra\" and cpu_gesture == \"Tesoura\":\n",
    "        print(\"Player won\")\n",
    "        return 2\n",
    "    elif player_gesture == \"Tesoura\" and cpu_gesture == \"Papel\":\n",
    "        print(\"Player won\")\n",
    "        return 2\n",
    "    elif player_gesture == \"Papel\" and cpu_gesture == \"Pedra\":\n",
    "        print(\"Player won\")\n",
    "        return 2\n",
    "    elif player_gesture == cpu_gesture:\n",
    "        print(\"Tie\")\n",
    "        return 0\n",
    "    else:\n",
    "        print(\"CPU won\")\n",
    "        return 1\n",
    "        "
   ]
  },
  {
   "cell_type": "code",
   "execution_count": 23,
   "metadata": {},
   "outputs": [
    {
     "name": "stdout",
     "output_type": "stream",
     "text": [
      "Tie\n"
     ]
    },
    {
     "data": {
      "text/plain": [
       "0"
      ]
     },
     "execution_count": 23,
     "metadata": {},
     "output_type": "execute_result"
    }
   ],
   "source": [
    "who_won(player_gesture,cpu_gesture)"
   ]
  },
  {
   "cell_type": "markdown",
   "metadata": {},
   "source": [
    "\n",
    "\n",
    "#### 9. Define a function that prints the choice of the computer, the choice of the player and a message that announces who won the current round. \n",
    "You should also use this function to update the variables that count the number of rounds that the computer and the player have won. The score of the winner increases by one point. If there is a tie, the score does not increase."
   ]
  },
  {
   "cell_type": "markdown",
   "metadata": {},
   "source": [
    "-> Funçao para alterar o placar"
   ]
  },
  {
   "cell_type": "code",
   "execution_count": 24,
   "metadata": {},
   "outputs": [],
   "source": [
    "# Inicio do Jogo com o placar  0x0\n",
    "cpu_score=0\n",
    "player_score=0\n",
    "count_round=[]\n",
    "\n",
    "def winner_round():\n",
    "    global cpu_score\n",
    "    global player_score\n",
    "    count_round\n",
    "    jogada=who_won(player_gesture,cpu_gesture)\n",
    "    if jogada==2:\n",
    "        player_score+=1\n",
    "        print('Placar Player:',player_score,\"x\",cpu_score,'ÇPU')\n",
    "    elif jogada==1:\n",
    "        cpu_score+=1\n",
    "        print('Placar Player:',player_score,\"x\",cpu_score,'ÇPU')\n",
    "    else:\n",
    "        print('Play Again!')\n"
   ]
  },
  {
   "cell_type": "code",
   "execution_count": 25,
   "metadata": {},
   "outputs": [
    {
     "name": "stdout",
     "output_type": "stream",
     "text": [
      "Tie\n",
      "Play Again!\n"
     ]
    }
   ],
   "source": [
    "winner_round()"
   ]
  },
  {
   "cell_type": "markdown",
   "metadata": {
    "toc-hr-collapsed": true
   },
   "source": [
    "# -> Juntando as funcoes para definir quem ganhou e alterar o placar\n"
   ]
  },
  {
   "cell_type": "code",
   "execution_count": 26,
   "metadata": {},
   "outputs": [],
   "source": [
    "cpu_score=0\n",
    "player_score=0\n",
    "count_round=[]\n",
    "\n",
    "def who_won_round(player_gesture,cpu_gesture):\n",
    "    global player_score\n",
    "    global cpu_score\n",
    "    if player_gesture == \"Pedra\" and cpu_gesture == \"Tesoura\":\n",
    "        print(\"Player won\")\n",
    "        player_score+=1\n",
    "        print('Placar Player:',player_score,\"x\",cpu_score,'ÇPU')\n",
    "        return 2\n",
    "    elif player_gesture == \"Tesoura\" and cpu_gesture == \"Papel\":\n",
    "        count_round+=1\n",
    "        print(\"Player won\")\n",
    "        player_score+=1\n",
    "        print('Placar Player:',player_score,\"x\",cpu_score,'ÇPU')\n",
    "        return 2\n",
    "    elif player_gesture == \"Papel\" and cpu_gesture == \"Pedra\":\n",
    "        print(\"Player won\")\n",
    "        player_score+=1\n",
    "        print('Placar Player:',player_score,\"x\",cpu_score,'ÇPU')\n",
    "        return 2\n",
    "    elif player_gesture == cpu_gesture:\n",
    "        print(\"Tie\")\n",
    "        print('Play Again!')\n",
    "        return 0\n",
    "    else:\n",
    "        print(\"CPU won\")\n",
    "        cpu_score+=1\n",
    "        print('Placar Player:',player_score,\"x\",cpu_score,'ÇPU')\n",
    "        return 1\n",
    "      "
   ]
  },
  {
   "cell_type": "code",
   "execution_count": 27,
   "metadata": {},
   "outputs": [
    {
     "name": "stdout",
     "output_type": "stream",
     "text": [
      "Tie\n",
      "Play Again!\n"
     ]
    },
    {
     "data": {
      "text/plain": [
       "0"
      ]
     },
     "execution_count": 27,
     "metadata": {},
     "output_type": "execute_result"
    }
   ],
   "source": [
    "who_won_round(player_gesture,cpu_gesture)"
   ]
  },
  {
   "cell_type": "markdown",
   "metadata": {},
   "source": [
    "#### 10. Now it's time to code the execution of the game using the functions and variables you defined above. \n",
    "\n",
    "First, create a loop structure that repeats while no player reaches the minimum score necessary to win and the number of rounds is less than the maximum number of rounds to play in a game.  \n",
    "\n",
    "Inside the loop, use the functions and variables above to create the execution of a round: ask for the player's choice, generate the random choice of the computer, show the round results, update the scores, etc. "
   ]
  },
  {
   "cell_type": "markdown",
   "metadata": {},
   "source": [
    "#### 11. Print the winner of the game based on who won more rounds.\n",
    "Remember that the game might be tied. "
   ]
  },
  {
   "cell_type": "code",
   "execution_count": 28,
   "metadata": {},
   "outputs": [],
   "source": [
    "def final_score():\n",
    "    print(\"Placar Final Jogador\",player_score,\"x Computador\",cpu_score)    \n",
    "    if player_score > cpu_score:\n",
    "        print(\"Jogador Ganhou \\nQue jogar de novo?\\n 1 - Sim 2 - Não\", jogo=input())\n",
    "    elif player_score < cpu_score:\n",
    "        print(\"Computador Ganhou\")\n",
    "    else:\n",
    "        print('Empatou')"
   ]
  },
  {
   "cell_type": "code",
   "execution_count": 29,
   "metadata": {},
   "outputs": [
    {
     "name": "stdout",
     "output_type": "stream",
     "text": [
      "Placar Final Jogador 0 x Computador 0\n",
      "Empatou\n"
     ]
    }
   ],
   "source": [
    "final_score()"
   ]
  },
  {
   "cell_type": "markdown",
   "metadata": {},
   "source": [
    "# Jogo Completo"
   ]
  },
  {
   "cell_type": "code",
   "execution_count": 30,
   "metadata": {},
   "outputs": [
    {
     "name": "stdin",
     "output_type": "stream",
     "text": [
      "Escolha Pedra, Papel ou Tesoura:  Pedra\n"
     ]
    },
    {
     "name": "stdout",
     "output_type": "stream",
     "text": [
      "Rodada 0\n",
      "Player Pedra x Computador Pedra\n",
      "Empatou, joguem de novo\n",
      "placar Jogador 0 x Computador 0\n",
      "\n",
      "\n"
     ]
    },
    {
     "name": "stdin",
     "output_type": "stream",
     "text": [
      "Escolha Pedra, Papel ou Tesoura:  Papel\n"
     ]
    },
    {
     "name": "stdout",
     "output_type": "stream",
     "text": [
      "Rodada 0\n",
      "Player Papel x Computador Pedra\n",
      "Jogador ganhou\n",
      "placar Jogador 1 x Computador 0\n",
      "\n",
      "\n"
     ]
    },
    {
     "name": "stdin",
     "output_type": "stream",
     "text": [
      "Escolha Pedra, Papel ou Tesoura:  \n"
     ]
    },
    {
     "name": "stdout",
     "output_type": "stream",
     "text": [
      "Rodada 0\n",
      "Player  x Computador Pedra\n",
      "Computador ganhou\n",
      "placar Jogador 1 x Computador 1\n",
      "\n",
      "\n"
     ]
    },
    {
     "name": "stdin",
     "output_type": "stream",
     "text": [
      "Escolha Pedra, Papel ou Tesoura:  Papel\n"
     ]
    },
    {
     "name": "stdout",
     "output_type": "stream",
     "text": [
      "Rodada 1\n",
      "Player Papel x Computador Papel\n",
      "Empatou, joguem de novo\n",
      "placar Jogador 1 x Computador 1\n",
      "\n",
      "\n"
     ]
    },
    {
     "name": "stdin",
     "output_type": "stream",
     "text": [
      "Escolha Pedra, Papel ou Tesoura:  \n"
     ]
    },
    {
     "name": "stdout",
     "output_type": "stream",
     "text": [
      "Rodada 1\n",
      "Player  x Computador Tesoura\n",
      "Computador ganhou\n",
      "placar Jogador 1 x Computador 2\n",
      "\n",
      "\n",
      "Placar Final Jogador 1 x Computador 2\n",
      "Computador Ganhou\n"
     ]
    }
   ],
   "source": [
    "#Jogo Completo\n",
    "cpu_score=0\n",
    "player_score=0\n",
    "list_results=[]\n",
    "n_rounds=4\n",
    "r=1\n",
    "\n",
    "for r in range(n_rounds):\n",
    "    while player_score<2 and cpu_score<2: \n",
    "        player_gesture=input(\"Escolha Pedra, Papel ou Tesoura: \")\n",
    "        cpu_gesture=random.choice(gestures)\n",
    "        print(\"Rodada\",r)\n",
    "        print(\"Player\",player_gesture, \"x Computador\",cpu_gesture)\n",
    "        if player_gesture == \"Pedra\" and cpu_gesture == \"Tesoura\":\n",
    "            player_score+=1\n",
    "            print(\"Jogador ganhou\")\n",
    "        elif player_gesture == \"Tesoura\" and cpu_gesture == \"Papel\":\n",
    "            player_score+=1\n",
    "            print(\"Jogador ganhou\")\n",
    "        elif player_gesture == \"Papel\" and cpu_gesture == \"Pedra\":\n",
    "            player_score+=1\n",
    "            print(\"Jogador ganhou\")\n",
    "        elif player_gesture == cpu_gesture:\n",
    "            print(\"Empatou, joguem de novo\")\n",
    "        else:\n",
    "            cpu_score+=1\n",
    "            print(\"Computador ganhou\")\n",
    "            r+=1\n",
    "        print(\"placar Jogador\",player_score,\"x Computador\",cpu_score)\n",
    "        print('\\n')\n",
    "print(\"Placar Final Jogador\",player_score,\"x Computador\",cpu_score)\n",
    "    \n",
    "if player_score > cpu_score:\n",
    "    print(\"Jogador Ganhou\")\n",
    "elif player_score < cpu_score:\n",
    "    print(\"Computador Ganhou\")\n",
    "else:\n",
    "    print('Empatou')\n"
   ]
  },
  {
   "cell_type": "markdown",
   "metadata": {},
   "source": [
    "# JOGO COMPLETO Review"
   ]
  },
  {
   "cell_type": "code",
   "execution_count": 25,
   "metadata": {},
   "outputs": [],
   "source": [
    "def game():\n",
    "    global cpu_score\n",
    "    global player_score\n",
    "    global count_round\n",
    "# Zerando o placar\n",
    "    cpu_score=0\n",
    "    player_score=0\n",
    "# Definindo quantas partidas serão jogadas e zerando placar\n",
    "    round_store()\n",
    "    count_round=1\n",
    "# Condiçao para parar o jogo, cpu_score ou player_score == rounds_to_win\n",
    "    while rounds_to_win != cpu_score | player_score:\n",
    "        print('\\nRound',count_round)\n",
    "        cpueplayer()\n",
    "        who_won_round(player_gesture,cpu_gesture)\n",
    "\n",
    "    \n"
   ]
  },
  {
   "cell_type": "code",
   "execution_count": 26,
   "metadata": {},
   "outputs": [
    {
     "name": "stdin",
     "output_type": "stream",
     "text": [
      "How many rounds do you wanna play? (1-9) 3\n"
     ]
    },
    {
     "name": "stdout",
     "output_type": "stream",
     "text": [
      "You should win 2 rounds\n",
      "\n",
      "Round 1\n"
     ]
    },
    {
     "name": "stdin",
     "output_type": "stream",
     "text": [
      "Escolha uma das opções:  Pedra, Papel ou Tesoura:  Pedra\n"
     ]
    },
    {
     "name": "stdout",
     "output_type": "stream",
     "text": [
      "\n",
      "Player Choice: Pedra  x CPU Choice: Pedra\n",
      "Tie\n",
      "Play Again!\n",
      "\n",
      "Round 1\n"
     ]
    },
    {
     "name": "stdin",
     "output_type": "stream",
     "text": [
      "Escolha uma das opções:  Pedra, Papel ou Tesoura:  Pedra\n"
     ]
    },
    {
     "name": "stdout",
     "output_type": "stream",
     "text": [
      "\n",
      "Player Choice: Pedra  x CPU Choice: Pedra\n",
      "Tie\n",
      "Play Again!\n",
      "\n",
      "Round 1\n"
     ]
    },
    {
     "name": "stdin",
     "output_type": "stream",
     "text": [
      "Escolha uma das opções:  Pedra, Papel ou Tesoura:  Pedra\n"
     ]
    },
    {
     "name": "stdout",
     "output_type": "stream",
     "text": [
      "\n",
      "Player Choice: Pedra  x CPU Choice: Tesoura\n",
      "Player won\n",
      "Placar Player: 1 x 0 ÇPU\n",
      "\n",
      "Round 1\n"
     ]
    },
    {
     "name": "stdin",
     "output_type": "stream",
     "text": [
      "Escolha uma das opções:  Pedra, Papel ou Tesoura:  Pedra\n"
     ]
    },
    {
     "name": "stdout",
     "output_type": "stream",
     "text": [
      "\n",
      "Player Choice: Pedra  x CPU Choice: Papel\n",
      "CPU won\n",
      "Placar Player: 1 x 1 ÇPU\n",
      "\n",
      "Round 1\n"
     ]
    },
    {
     "name": "stdin",
     "output_type": "stream",
     "text": [
      "Escolha uma das opções:  Pedra, Papel ou Tesoura:  Pedra\n"
     ]
    },
    {
     "name": "stdout",
     "output_type": "stream",
     "text": [
      "\n",
      "Player Choice: Pedra  x CPU Choice: Papel\n",
      "CPU won\n",
      "Placar Player: 1 x 2 ÇPU\n",
      "\n",
      "Round 1\n"
     ]
    },
    {
     "name": "stdin",
     "output_type": "stream",
     "text": [
      "Escolha uma das opções:  Pedra, Papel ou Tesoura:  Pedra\n"
     ]
    },
    {
     "name": "stdout",
     "output_type": "stream",
     "text": [
      "\n",
      "Player Choice: Pedra  x CPU Choice: Papel\n",
      "CPU won\n",
      "Placar Player: 1 x 3 ÇPU\n",
      "\n",
      "Round 1\n"
     ]
    },
    {
     "name": "stdin",
     "output_type": "stream",
     "text": [
      "Escolha uma das opções:  Pedra, Papel ou Tesoura:  Pedra\n"
     ]
    },
    {
     "name": "stdout",
     "output_type": "stream",
     "text": [
      "\n",
      "Player Choice: Pedra  x CPU Choice: Pedra\n",
      "Tie\n",
      "Play Again!\n",
      "\n",
      "Round 1\n"
     ]
    },
    {
     "name": "stdin",
     "output_type": "stream",
     "text": [
      "Escolha uma das opções:  Pedra, Papel ou Tesoura:  Pedra\n"
     ]
    },
    {
     "name": "stdout",
     "output_type": "stream",
     "text": [
      "\n",
      "Player Choice: Pedra  x CPU Choice: Papel\n",
      "CPU won\n",
      "Placar Player: 1 x 4 ÇPU\n",
      "\n",
      "Round 1\n"
     ]
    },
    {
     "ename": "KeyboardInterrupt",
     "evalue": "",
     "output_type": "error",
     "traceback": [
      "\u001b[0;31m---------------------------------------------------------------------------\u001b[0m",
      "\u001b[0;31mKeyboardInterrupt\u001b[0m                         Traceback (most recent call last)",
      "\u001b[0;32m/usr/local/lib/python3.7/site-packages/ipykernel/kernelbase.py\u001b[0m in \u001b[0;36m_input_request\u001b[0;34m(self, prompt, ident, parent, password)\u001b[0m\n\u001b[1;32m    883\u001b[0m             \u001b[0;32mtry\u001b[0m\u001b[0;34m:\u001b[0m\u001b[0;34m\u001b[0m\u001b[0;34m\u001b[0m\u001b[0m\n\u001b[0;32m--> 884\u001b[0;31m                 \u001b[0mident\u001b[0m\u001b[0;34m,\u001b[0m \u001b[0mreply\u001b[0m \u001b[0;34m=\u001b[0m \u001b[0mself\u001b[0m\u001b[0;34m.\u001b[0m\u001b[0msession\u001b[0m\u001b[0;34m.\u001b[0m\u001b[0mrecv\u001b[0m\u001b[0;34m(\u001b[0m\u001b[0mself\u001b[0m\u001b[0;34m.\u001b[0m\u001b[0mstdin_socket\u001b[0m\u001b[0;34m,\u001b[0m \u001b[0;36m0\u001b[0m\u001b[0;34m)\u001b[0m\u001b[0;34m\u001b[0m\u001b[0;34m\u001b[0m\u001b[0m\n\u001b[0m\u001b[1;32m    885\u001b[0m             \u001b[0;32mexcept\u001b[0m \u001b[0mException\u001b[0m\u001b[0;34m:\u001b[0m\u001b[0;34m\u001b[0m\u001b[0;34m\u001b[0m\u001b[0m\n",
      "\u001b[0;32m/usr/local/lib/python3.7/site-packages/jupyter_client/session.py\u001b[0m in \u001b[0;36mrecv\u001b[0;34m(self, socket, mode, content, copy)\u001b[0m\n\u001b[1;32m    802\u001b[0m         \u001b[0;32mtry\u001b[0m\u001b[0;34m:\u001b[0m\u001b[0;34m\u001b[0m\u001b[0;34m\u001b[0m\u001b[0m\n\u001b[0;32m--> 803\u001b[0;31m             \u001b[0mmsg_list\u001b[0m \u001b[0;34m=\u001b[0m \u001b[0msocket\u001b[0m\u001b[0;34m.\u001b[0m\u001b[0mrecv_multipart\u001b[0m\u001b[0;34m(\u001b[0m\u001b[0mmode\u001b[0m\u001b[0;34m,\u001b[0m \u001b[0mcopy\u001b[0m\u001b[0;34m=\u001b[0m\u001b[0mcopy\u001b[0m\u001b[0;34m)\u001b[0m\u001b[0;34m\u001b[0m\u001b[0;34m\u001b[0m\u001b[0m\n\u001b[0m\u001b[1;32m    804\u001b[0m         \u001b[0;32mexcept\u001b[0m \u001b[0mzmq\u001b[0m\u001b[0;34m.\u001b[0m\u001b[0mZMQError\u001b[0m \u001b[0;32mas\u001b[0m \u001b[0me\u001b[0m\u001b[0;34m:\u001b[0m\u001b[0;34m\u001b[0m\u001b[0;34m\u001b[0m\u001b[0m\n",
      "\u001b[0;32m/usr/local/lib/python3.7/site-packages/zmq/sugar/socket.py\u001b[0m in \u001b[0;36mrecv_multipart\u001b[0;34m(self, flags, copy, track)\u001b[0m\n\u001b[1;32m    474\u001b[0m         \"\"\"\n\u001b[0;32m--> 475\u001b[0;31m         \u001b[0mparts\u001b[0m \u001b[0;34m=\u001b[0m \u001b[0;34m[\u001b[0m\u001b[0mself\u001b[0m\u001b[0;34m.\u001b[0m\u001b[0mrecv\u001b[0m\u001b[0;34m(\u001b[0m\u001b[0mflags\u001b[0m\u001b[0;34m,\u001b[0m \u001b[0mcopy\u001b[0m\u001b[0;34m=\u001b[0m\u001b[0mcopy\u001b[0m\u001b[0;34m,\u001b[0m \u001b[0mtrack\u001b[0m\u001b[0;34m=\u001b[0m\u001b[0mtrack\u001b[0m\u001b[0;34m)\u001b[0m\u001b[0;34m]\u001b[0m\u001b[0;34m\u001b[0m\u001b[0;34m\u001b[0m\u001b[0m\n\u001b[0m\u001b[1;32m    476\u001b[0m         \u001b[0;31m# have first part already, only loop while more to receive\u001b[0m\u001b[0;34m\u001b[0m\u001b[0;34m\u001b[0m\u001b[0;34m\u001b[0m\u001b[0m\n",
      "\u001b[0;32mzmq/backend/cython/socket.pyx\u001b[0m in \u001b[0;36mzmq.backend.cython.socket.Socket.recv\u001b[0;34m()\u001b[0m\n",
      "\u001b[0;32mzmq/backend/cython/socket.pyx\u001b[0m in \u001b[0;36mzmq.backend.cython.socket.Socket.recv\u001b[0;34m()\u001b[0m\n",
      "\u001b[0;32mzmq/backend/cython/socket.pyx\u001b[0m in \u001b[0;36mzmq.backend.cython.socket._recv_copy\u001b[0;34m()\u001b[0m\n",
      "\u001b[0;32m/usr/local/lib/python3.7/site-packages/zmq/backend/cython/checkrc.pxd\u001b[0m in \u001b[0;36mzmq.backend.cython.checkrc._check_rc\u001b[0;34m()\u001b[0m\n",
      "\u001b[0;31mKeyboardInterrupt\u001b[0m: ",
      "\nDuring handling of the above exception, another exception occurred:\n",
      "\u001b[0;31mKeyboardInterrupt\u001b[0m                         Traceback (most recent call last)",
      "\u001b[0;32m<ipython-input-26-4a8413945148>\u001b[0m in \u001b[0;36m<module>\u001b[0;34m\u001b[0m\n\u001b[0;32m----> 1\u001b[0;31m \u001b[0mgame\u001b[0m\u001b[0;34m(\u001b[0m\u001b[0;34m)\u001b[0m\u001b[0;34m\u001b[0m\u001b[0;34m\u001b[0m\u001b[0m\n\u001b[0m",
      "\u001b[0;32m<ipython-input-25-5c04d3393ab9>\u001b[0m in \u001b[0;36mgame\u001b[0;34m()\u001b[0m\n\u001b[1;32m     12\u001b[0m     \u001b[0;32mwhile\u001b[0m \u001b[0mrounds_to_win\u001b[0m \u001b[0;34m!=\u001b[0m \u001b[0mcpu_score\u001b[0m \u001b[0;34m|\u001b[0m \u001b[0mplayer_score\u001b[0m\u001b[0;34m:\u001b[0m\u001b[0;34m\u001b[0m\u001b[0;34m\u001b[0m\u001b[0m\n\u001b[1;32m     13\u001b[0m         \u001b[0mprint\u001b[0m\u001b[0;34m(\u001b[0m\u001b[0;34m'\\nRound'\u001b[0m\u001b[0;34m,\u001b[0m\u001b[0mcount_round\u001b[0m\u001b[0;34m)\u001b[0m\u001b[0;34m\u001b[0m\u001b[0;34m\u001b[0m\u001b[0m\n\u001b[0;32m---> 14\u001b[0;31m         \u001b[0mcpueplayer\u001b[0m\u001b[0;34m(\u001b[0m\u001b[0;34m)\u001b[0m\u001b[0;34m\u001b[0m\u001b[0;34m\u001b[0m\u001b[0m\n\u001b[0m\u001b[1;32m     15\u001b[0m         \u001b[0mwho_won_round\u001b[0m\u001b[0;34m(\u001b[0m\u001b[0mplayer_gesture\u001b[0m\u001b[0;34m,\u001b[0m\u001b[0mcpu_gesture\u001b[0m\u001b[0;34m)\u001b[0m\u001b[0;34m\u001b[0m\u001b[0;34m\u001b[0m\u001b[0m\n\u001b[1;32m     16\u001b[0m \u001b[0;34m\u001b[0m\u001b[0m\n",
      "\u001b[0;32m<ipython-input-13-4939ea563439>\u001b[0m in \u001b[0;36mcpueplayer\u001b[0;34m()\u001b[0m\n\u001b[1;32m      4\u001b[0m     \u001b[0mcpu_gesture\u001b[0m\u001b[0;34m=\u001b[0m\u001b[0mrandom\u001b[0m\u001b[0;34m.\u001b[0m\u001b[0mchoice\u001b[0m\u001b[0;34m(\u001b[0m\u001b[0mgestures\u001b[0m\u001b[0;34m)\u001b[0m\u001b[0;34m\u001b[0m\u001b[0;34m\u001b[0m\u001b[0m\n\u001b[1;32m      5\u001b[0m     \u001b[0;32mglobal\u001b[0m \u001b[0mplayer_gesture\u001b[0m\u001b[0;34m\u001b[0m\u001b[0;34m\u001b[0m\u001b[0m\n\u001b[0;32m----> 6\u001b[0;31m     \u001b[0mplayer_gesture\u001b[0m\u001b[0;34m=\u001b[0m\u001b[0minput\u001b[0m\u001b[0;34m(\u001b[0m\u001b[0;34m\"Escolha uma das opções:  Pedra, Papel ou Tesoura: \"\u001b[0m\u001b[0;34m)\u001b[0m\u001b[0;34m\u001b[0m\u001b[0;34m\u001b[0m\u001b[0m\n\u001b[0m\u001b[1;32m      7\u001b[0m     \u001b[0;32mwhile\u001b[0m \u001b[0mplayer_gesture\u001b[0m \u001b[0;32mnot\u001b[0m \u001b[0;32min\u001b[0m \u001b[0;34m[\u001b[0m\u001b[0;34m\"Pedra\"\u001b[0m\u001b[0;34m,\u001b[0m\u001b[0;34m\"Papel\"\u001b[0m\u001b[0;34m,\u001b[0m\u001b[0;34m\"Tesoura\"\u001b[0m\u001b[0;34m]\u001b[0m\u001b[0;34m:\u001b[0m\u001b[0;34m\u001b[0m\u001b[0;34m\u001b[0m\u001b[0m\n\u001b[1;32m      8\u001b[0m         \u001b[0mplayer_gesture\u001b[0m\u001b[0;34m=\u001b[0m\u001b[0minput\u001b[0m\u001b[0;34m(\u001b[0m\u001b[0;34m\"Escreva corretamente uma das opções:  Pedra, Papel ou Tesoura: \"\u001b[0m\u001b[0;34m)\u001b[0m\u001b[0;34m\u001b[0m\u001b[0;34m\u001b[0m\u001b[0m\n",
      "\u001b[0;32m/usr/local/lib/python3.7/site-packages/ipykernel/kernelbase.py\u001b[0m in \u001b[0;36mraw_input\u001b[0;34m(self, prompt)\u001b[0m\n\u001b[1;32m    857\u001b[0m             \u001b[0mself\u001b[0m\u001b[0;34m.\u001b[0m\u001b[0m_parent_ident\u001b[0m\u001b[0;34m,\u001b[0m\u001b[0;34m\u001b[0m\u001b[0;34m\u001b[0m\u001b[0m\n\u001b[1;32m    858\u001b[0m             \u001b[0mself\u001b[0m\u001b[0;34m.\u001b[0m\u001b[0m_parent_header\u001b[0m\u001b[0;34m,\u001b[0m\u001b[0;34m\u001b[0m\u001b[0;34m\u001b[0m\u001b[0m\n\u001b[0;32m--> 859\u001b[0;31m             \u001b[0mpassword\u001b[0m\u001b[0;34m=\u001b[0m\u001b[0;32mFalse\u001b[0m\u001b[0;34m,\u001b[0m\u001b[0;34m\u001b[0m\u001b[0;34m\u001b[0m\u001b[0m\n\u001b[0m\u001b[1;32m    860\u001b[0m         )\n\u001b[1;32m    861\u001b[0m \u001b[0;34m\u001b[0m\u001b[0m\n",
      "\u001b[0;32m/usr/local/lib/python3.7/site-packages/ipykernel/kernelbase.py\u001b[0m in \u001b[0;36m_input_request\u001b[0;34m(self, prompt, ident, parent, password)\u001b[0m\n\u001b[1;32m    887\u001b[0m             \u001b[0;32mexcept\u001b[0m \u001b[0mKeyboardInterrupt\u001b[0m\u001b[0;34m:\u001b[0m\u001b[0;34m\u001b[0m\u001b[0;34m\u001b[0m\u001b[0m\n\u001b[1;32m    888\u001b[0m                 \u001b[0;31m# re-raise KeyboardInterrupt, to truncate traceback\u001b[0m\u001b[0;34m\u001b[0m\u001b[0;34m\u001b[0m\u001b[0;34m\u001b[0m\u001b[0m\n\u001b[0;32m--> 889\u001b[0;31m                 \u001b[0;32mraise\u001b[0m \u001b[0mKeyboardInterrupt\u001b[0m\u001b[0;34m\u001b[0m\u001b[0;34m\u001b[0m\u001b[0m\n\u001b[0m\u001b[1;32m    890\u001b[0m             \u001b[0;32melse\u001b[0m\u001b[0;34m:\u001b[0m\u001b[0;34m\u001b[0m\u001b[0;34m\u001b[0m\u001b[0m\n\u001b[1;32m    891\u001b[0m                 \u001b[0;32mbreak\u001b[0m\u001b[0;34m\u001b[0m\u001b[0;34m\u001b[0m\u001b[0m\n",
      "\u001b[0;31mKeyboardInterrupt\u001b[0m: "
     ]
    }
   ],
   "source": [
    "game()"
   ]
  },
  {
   "cell_type": "markdown",
   "metadata": {
    "toc-hr-collapsed": true
   },
   "source": [
    "# Falta corrigir a mudanca de round\n",
    "# E colocar o fim do jogo conforme a mudanca de rounds ganhos\n",
    "# perguntar se quer jogar novamente\n",
    "# Colocar a opcao para zerar o placar e reiniciar o jogo"
   ]
  },
  {
   "cell_type": "markdown",
   "metadata": {},
   "source": [
    "# Bonus: Rock, Paper, Scissors, Lizard & Spock\n",
    "![](images/rpsls.jpg)\n",
    "\n",
    "In this challenge, you need to improve the previous game by adding two new options. To know more about the rules of the improved version of rock, paper, scissors, check this [link](http://www.samkass.com/theories/RPSSL.html). \n",
    "\n",
    "In addition, you will also need to improve how the game interacts with the player: the number of rounds to play, which must be an odd number, will be requested to the user until a valid number is entered. Define a new function to make that request.\n",
    "\n",
    "**Hint**: Try to reuse the code that you already coded in the previous challenge. If your code is efficient, this bonus will only consist of simple modifications to the original game."
   ]
  },
  {
   "cell_type": "code",
   "execution_count": null,
   "metadata": {},
   "outputs": [],
   "source": []
  }
 ],
 "metadata": {
  "kernelspec": {
   "display_name": "Python 3",
   "language": "python",
   "name": "python3"
  },
  "language_info": {
   "codemirror_mode": {
    "name": "ipython",
    "version": 3
   },
   "file_extension": ".py",
   "mimetype": "text/x-python",
   "name": "python",
   "nbconvert_exporter": "python",
   "pygments_lexer": "ipython3",
   "version": "3.7.6"
  }
 },
 "nbformat": 4,
 "nbformat_minor": 4
}
