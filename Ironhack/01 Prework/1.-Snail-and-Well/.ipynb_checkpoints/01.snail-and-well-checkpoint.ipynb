{
 "cells": [
  {
   "cell_type": "markdown",
   "metadata": {
    "toc": true
   },
   "source": [
    "<h1>Table of Contents<span class=\"tocSkip\"></span></h1>\n",
    "<div class=\"toc\"><ul class=\"toc-item\"><li><span><a href=\"#The-Snail-and-the-Well\" data-toc-modified-id=\"The-Snail-and-the-Well-1\"><span class=\"toc-item-num\">1&nbsp;&nbsp;</span>The Snail and the Well</a></span><ul class=\"toc-item\"><li><span><a href=\"#Tools\" data-toc-modified-id=\"Tools-1.1\"><span class=\"toc-item-num\">1.1&nbsp;&nbsp;</span>Tools</a></span></li><li><span><a href=\"#Tasks\" data-toc-modified-id=\"Tasks-1.2\"><span class=\"toc-item-num\">1.2&nbsp;&nbsp;</span>Tasks</a></span><ul class=\"toc-item\"><li><ul class=\"toc-item\"><li><span><a href=\"#1.-Assign-the-challenge-data-to-variables-with-representative-names:-well_height,-daily_distance,-nightly_distance-and-snail_position.\" data-toc-modified-id=\"1.-Assign-the-challenge-data-to-variables-with-representative-names:-well_height,-daily_distance,-nightly_distance-and-snail_position.-1.2.0.1\"><span class=\"toc-item-num\">1.2.0.1&nbsp;&nbsp;</span>1. Assign the challenge data to variables with representative names: <code>well_height</code>, <code>daily_distance</code>, <code>nightly_distance</code> and <code>snail_position</code>.</a></span></li><li><span><a href=\"#2.-Create-a-variable-days-to-keep-count-of-the-days-that-pass-until-the-snail-escapes-the-well.\" data-toc-modified-id=\"2.-Create-a-variable-days-to-keep-count-of-the-days-that-pass-until-the-snail-escapes-the-well.-1.2.0.2\"><span class=\"toc-item-num\">1.2.0.2&nbsp;&nbsp;</span>2. Create a variable <code>days</code> to keep count of the days that pass until the snail escapes the well.</a></span></li><li><span><a href=\"#3.-Find-the-solution-to-the-challenge-using-the-variables-defined-above.\" data-toc-modified-id=\"3.-Find-the-solution-to-the-challenge-using-the-variables-defined-above.-1.2.0.3\"><span class=\"toc-item-num\">1.2.0.3&nbsp;&nbsp;</span>3. Find the solution to the challenge using the variables defined above.</a></span></li><li><span><a href=\"#4.-Print-the-solution.\" data-toc-modified-id=\"4.-Print-the-solution.-1.2.0.4\"><span class=\"toc-item-num\">1.2.0.4&nbsp;&nbsp;</span>4. Print the solution.</a></span></li></ul></li></ul></li><li><span><a href=\"#Bonus\" data-toc-modified-id=\"Bonus-1.3\"><span class=\"toc-item-num\">1.3&nbsp;&nbsp;</span>Bonus</a></span><ul class=\"toc-item\"><li><ul class=\"toc-item\"><li><span><a href=\"#1.-How-many-days-does-it-take-for-the-snail-to-escape-the-well?\" data-toc-modified-id=\"1.-How-many-days-does-it-take-for-the-snail-to-escape-the-well?-1.3.0.1\"><span class=\"toc-item-num\">1.3.0.1&nbsp;&nbsp;</span>1. How many days does it take for the snail to escape the well?</a></span></li><li><span><a href=\"#2.-What-is-its-maximum-displacement-in-one-day?-And-its-minimum?-Calculate-the-displacement-using-only-the-travel-distance-of-the-days-used-to-get-out-of-the-well.\" data-toc-modified-id=\"2.-What-is-its-maximum-displacement-in-one-day?-And-its-minimum?-Calculate-the-displacement-using-only-the-travel-distance-of-the-days-used-to-get-out-of-the-well.-1.3.0.2\"><span class=\"toc-item-num\">1.3.0.2&nbsp;&nbsp;</span>2. What is its maximum displacement in one day? And its minimum? Calculate the displacement using only the travel distance of the days used to get out of the well.</a></span></li><li><span><a href=\"#3.-What-is-its-average-progress?-Take-into-account-the-snail-slides-at-night.\" data-toc-modified-id=\"3.-What-is-its-average-progress?-Take-into-account-the-snail-slides-at-night.-1.3.0.3\"><span class=\"toc-item-num\">1.3.0.3&nbsp;&nbsp;</span>3. What is its average progress? Take into account the snail slides at night.</a></span></li><li><span><a href=\"#4.-What-is-the-standard-deviation-of-its-displacement?-Take-into-account-the-snail-slides-at-night.\" data-toc-modified-id=\"4.-What-is-the-standard-deviation-of-its-displacement?-Take-into-account-the-snail-slides-at-night.-1.3.0.4\"><span class=\"toc-item-num\">1.3.0.4&nbsp;&nbsp;</span>4. What is the standard deviation of its displacement? Take into account the snail slides at night.</a></span></li></ul></li></ul></li></ul></li></ul></div>"
   ]
  },
  {
   "cell_type": "markdown",
   "metadata": {},
   "source": [
    "<img src=\"https://bit.ly/2VnXWr2\" width=\"100\" align=\"left\">"
   ]
  },
  {
   "cell_type": "markdown",
   "metadata": {},
   "source": [
    "# The Snail and the Well\n",
    "\n",
    "A snail falls at the bottom of a 125 cm well. Each day the snail rises 30 cm. But at night, while sleeping, slides 20 cm because the walls are wet. How many days does it take for the snail to escape the well?\n",
    "\n",
    "**Hint**: The snail gets out of the well when it surpasses the 125cm of height.\n",
    "\n",
    "## Tools\n",
    "\n",
    "1. Loop: **while**\n",
    "2. Conditional statements: **if-else**\n",
    "3. Function: **print()**\n",
    "\n",
    "## Tasks\n",
    "\n",
    "#### 1. Assign the challenge data to variables with representative names: `well_height`, `daily_distance`, `nightly_distance` and `snail_position`."
   ]
  },
  {
   "cell_type": "code",
   "execution_count": 1,
   "metadata": {},
   "outputs": [],
   "source": [
    "well_height=125"
   ]
  },
  {
   "cell_type": "code",
   "execution_count": 2,
   "metadata": {},
   "outputs": [],
   "source": [
    "daily_distance=30"
   ]
  },
  {
   "cell_type": "code",
   "execution_count": 3,
   "metadata": {},
   "outputs": [],
   "source": [
    "nightly_distance=20"
   ]
  },
  {
   "cell_type": "code",
   "execution_count": 4,
   "metadata": {},
   "outputs": [],
   "source": [
    "snail_position=0"
   ]
  },
  {
   "cell_type": "markdown",
   "metadata": {},
   "source": [
    "#### 2. Create a variable `days` to keep count of the days that pass until the snail escapes the well. "
   ]
  },
  {
   "cell_type": "code",
   "execution_count": 5,
   "metadata": {},
   "outputs": [],
   "source": [
    "days=0"
   ]
  },
  {
   "cell_type": "code",
   "execution_count": 6,
   "metadata": {},
   "outputs": [
    {
     "data": {
      "text/plain": [
       "True"
      ]
     },
     "execution_count": 6,
     "metadata": {},
     "output_type": "execute_result"
    }
   ],
   "source": [
    "snail_position <125"
   ]
  },
  {
   "cell_type": "code",
   "execution_count": 7,
   "metadata": {},
   "outputs": [],
   "source": [
    "days+=1"
   ]
  },
  {
   "cell_type": "code",
   "execution_count": 8,
   "metadata": {},
   "outputs": [
    {
     "data": {
      "text/plain": [
       "1"
      ]
     },
     "execution_count": 8,
     "metadata": {},
     "output_type": "execute_result"
    }
   ],
   "source": [
    "days"
   ]
  },
  {
   "cell_type": "markdown",
   "metadata": {},
   "source": [
    "#### 3. Find the solution to the challenge using the variables defined above. "
   ]
  },
  {
   "cell_type": "code",
   "execution_count": 9,
   "metadata": {},
   "outputs": [
    {
     "name": "stdout",
     "output_type": "stream",
     "text": [
      "Day: 0 Inicial Position 0\n",
      "Day: 1 Daily Distance: 30 Nightly Distance 10 Final Position 10\n",
      "Day: 2 Daily Distance: 40 Nightly Distance 20 Final Position 20\n",
      "Day: 3 Daily Distance: 50 Nightly Distance 30 Final Position 30\n",
      "Day: 4 Daily Distance: 60 Nightly Distance 40 Final Position 40\n",
      "Day: 5 Daily Distance: 70 Nightly Distance 50 Final Position 50\n",
      "Day: 6 Daily Distance: 80 Nightly Distance 60 Final Position 60\n",
      "Day: 7 Daily Distance: 90 Nightly Distance 70 Final Position 70\n",
      "Day: 8 Daily Distance: 100 Nightly Distance 80 Final Position 80\n",
      "Day: 9 Daily Distance: 110 Nightly Distance 90 Final Position 90\n",
      "Day: 10 Daily Distance: 120 Nightly Distance 100 Final Position 100\n",
      "\n",
      "Finally get out from the well at Day: 11 \n",
      "Daily Distance: 130 Nightly Distance 100 Final Position 130\n"
     ]
    }
   ],
   "source": [
    "days = 0\n",
    "snail_position = 0\n",
    "print('Day:',days,'Inicial Position', snail_position)\n",
    "while snail_position <125:\n",
    "    days +=1\n",
    "    if snail_position <125:\n",
    "        snail_position+=daily_distance\n",
    "        x=snail_position\n",
    "    if snail_position <125:\n",
    "        snail_position -= nightly_distance \n",
    "        y=snail_position\n",
    "    if snail_position < 125:    \n",
    "        print('Day:',days, 'Daily Distance:',x,'Nightly Distance',y, 'Final Position', snail_position)\n",
    "print('\\nFinally get out from the well at Day:',days, '\\nDaily Distance:',x,'Nightly Distance',y, 'Final Position', snail_position)"
   ]
  },
  {
   "cell_type": "markdown",
   "metadata": {},
   "source": [
    "#### 4. Print the solution."
   ]
  },
  {
   "cell_type": "code",
   "execution_count": 10,
   "metadata": {},
   "outputs": [
    {
     "name": "stdout",
     "output_type": "stream",
     "text": [
      "11\n"
     ]
    }
   ],
   "source": [
    "print(days)"
   ]
  },
  {
   "cell_type": "markdown",
   "metadata": {},
   "source": [
    "## Bonus\n",
    "The distance traveled by the snail each day is now defined by a list.\n",
    "```\n",
    "advance_cm = [30, 21, 33, 77, 44, 45, 23, 45, 12, 34, 55]\n",
    "```\n",
    "On the first day, the snail rises 30cm but during the night it slides 20cm. On the second day, the snail rises 21cm but during the night it slides 20cm, and so on. \n",
    "\n",
    "#### 1. How many days does it take for the snail to escape the well?\n",
    "Follow the same guidelines as in the previous challenge.\n",
    "\n",
    "**Hint**: Remember that the snail gets out of the well when it surpasses the 125cm of height."
   ]
  },
  {
   "cell_type": "code",
   "execution_count": 11,
   "metadata": {},
   "outputs": [
    {
     "name": "stdout",
     "output_type": "stream",
     "text": [
      "Day: 0 Inicial Position 0\n",
      "Day: 1 Daily Distance: 30 Nightly Distance 10 Final Position 10\n",
      "Day: 2 Daily Distance: 31 Nightly Distance 11 Final Position 11\n",
      "Day: 3 Daily Distance: 44 Nightly Distance 24 Final Position 24\n",
      "Day: 4 Daily Distance: 101 Nightly Distance 81 Final Position 81\n",
      "\n",
      "Finally get out from the well at Day: 5 \n",
      "Daily Distance: 125 Nightly Distance 81 Final Position 125\n"
     ]
    }
   ],
   "source": [
    "days = 0\n",
    "snail_position = 0\n",
    "advance_cm = [30, 21, 33, 77, 44, 45, 23, 45, 12, 34, 55]\n",
    "print('Day:',days,'Inicial Position', snail_position)\n",
    "while snail_position <125:\n",
    "    for i in range(len(advance_cm)):\n",
    "        days +=1\n",
    "        if snail_position <125:\n",
    "            snail_position += advance_cm[i] \n",
    "            x=snail_position\n",
    "        if snail_position <125:\n",
    "            snail_position -= 20 \n",
    "            y=snail_position  \n",
    "        else:\n",
    "            break\n",
    "        print('Day:',days, 'Daily Distance:',x,'Nightly Distance',y, 'Final Position', snail_position)\n",
    "print('\\nFinally get out from the well at Day:',days, '\\nDaily Distance:',x,'Nightly Distance',y, 'Final Position', snail_position)"
   ]
  },
  {
   "cell_type": "markdown",
   "metadata": {},
   "source": [
    "#### 2. What is its maximum displacement in one day? And its minimum? Calculate the displacement using only the travel distance of the days used to get out of the well. \n",
    "**Hint**: Remember that displacement means the total distance risen taking into account that the snail slides at night.  "
   ]
  },
  {
   "cell_type": "code",
   "execution_count": 12,
   "metadata": {},
   "outputs": [
    {
     "name": "stdout",
     "output_type": "stream",
     "text": [
      "Maximum displacement in one day 77\n",
      "Minimum displacement in one day 12\n"
     ]
    }
   ],
   "source": [
    "print(\"Maximum displacement in one day\", max(advance_cm))\n",
    "print(\"Minimum displacement in one day\",min(advance_cm))"
   ]
  },
  {
   "cell_type": "markdown",
   "metadata": {},
   "source": [
    "#### 3. What is its average progress? Take into account the snail slides at night."
   ]
  },
  {
   "cell_type": "code",
   "execution_count": 16,
   "metadata": {},
   "outputs": [
    {
     "name": "stdout",
     "output_type": "stream",
     "text": [
      "Day: 0 Inicial Position 0\n",
      "Day: 1 Final Position 10 [10]\n",
      "Day: 2 Final Position 11 [10, 11]\n",
      "Day: 3 Final Position 24 [10, 11, 24]\n",
      "Day: 4 Final Position 81 [10, 11, 24, 81]\n",
      "Day: 5 Final Position 105 [10, 11, 24, 81, 105]\n",
      "Day: 6 Final Position 130 [10, 11, 24, 81, 105, 130]\n",
      "Day: 7 Final Position 133 [10, 11, 24, 81, 105, 130, 133]\n",
      "Day: 8 Final Position 158 [10, 11, 24, 81, 105, 130, 133, 158]\n",
      "Day: 9 Final Position 150 [10, 11, 24, 81, 105, 130, 133, 158, 150]\n",
      "Day: 10 Final Position 164 [10, 11, 24, 81, 105, 130, 133, 158, 150, 164]\n",
      "Day: 11 Final Position 199 [10, 11, 24, 81, 105, 130, 133, 158, 150, 164, 199]\n",
      "Average progress 105.9\n"
     ]
    }
   ],
   "source": [
    "days = 0\n",
    "snail_position = 0\n",
    "advance_cm = [30, 21, 33, 77, 44, 45, 23, 45, 12, 34, 55]\n",
    "final_position=[]\n",
    "print('Day:',days,'Inicial Position', snail_position)\n",
    "while snail_position <125:\n",
    "    for i in range(len(advance_cm)):\n",
    "        days +=1\n",
    "        snail_position += advance_cm[i] \n",
    "        snail_position -= 20 \n",
    "        final_position.append(snail_position) \n",
    "        print('Day:',days,  'Final Position', snail_position, final_position)\n",
    "print('Average progress',round(sum(final_position)/len(final_position),1))\n"
   ]
  },
  {
   "cell_type": "code",
   "execution_count": 17,
   "metadata": {},
   "outputs": [
    {
     "name": "stdout",
     "output_type": "stream",
     "text": [
      "Day: 0 Inicial Position 0\n",
      "Day: 1 Final Position 10 [10]\n",
      "Day: 2 Final Position 11 [10, 11]\n",
      "Day: 3 Final Position 24 [10, 11, 24]\n",
      "Day: 4 Final Position 81 [10, 11, 24, 81]\n",
      "Day: 5 Final Position 105 [10, 11, 24, 81, 105]\n",
      "Day: 6 Final Position 130 [10, 11, 24, 81, 105, 130]\n",
      "Day: 7 Final Position 133 [10, 11, 24, 81, 105, 130, 133]\n",
      "Day: 8 Final Position 158 [10, 11, 24, 81, 105, 130, 133, 158]\n",
      "Day: 9 Final Position 150 [10, 11, 24, 81, 105, 130, 133, 158, 150]\n",
      "Day: 10 Final Position 164 [10, 11, 24, 81, 105, 130, 133, 158, 150, 164]\n",
      "Day: 11 Final Position 199 [10, 11, 24, 81, 105, 130, 133, 158, 150, 164, 199]\n",
      "Average progress 105.9\n"
     ]
    }
   ],
   "source": [
    "\"\"\"\n",
    "Funciona da mesma forma utilizando o advance_cm com itens da lista,\n",
    "sem precisar dar a posição advance_cm[0]\n",
    "\"\"\"\n",
    "days = 0\n",
    "snail_position = 0\n",
    "advance_cm = [30, 21, 33, 77, 44, 45, 23, 45, 12, 34, 55]\n",
    "final_position=[]\n",
    "print('Day:',days,'Inicial Position', snail_position)\n",
    "while snail_position <125:\n",
    "    for i in advance_cm:\n",
    "        days +=1\n",
    "        snail_position += i\n",
    "        snail_position -= 20 \n",
    "        final_position.append(snail_position) \n",
    "        print('Day:',days,  'Final Position', snail_position, final_position)\n",
    "print('Average progress',round(sum(final_position)/len(final_position),1))\n"
   ]
  },
  {
   "cell_type": "markdown",
   "metadata": {},
   "source": [
    "#### 4. What is the standard deviation of its displacement? Take into account the snail slides at night."
   ]
  },
  {
   "cell_type": "code",
   "execution_count": 18,
   "metadata": {},
   "outputs": [
    {
     "data": {
      "text/plain": [
       "65.99159726124917"
      ]
     },
     "execution_count": 18,
     "metadata": {},
     "output_type": "execute_result"
    }
   ],
   "source": [
    "from statistics import stdev\n",
    "stdev(final_position)"
   ]
  }
 ],
 "metadata": {
  "hide_input": false,
  "kernelspec": {
   "display_name": "Python 3",
   "language": "python",
   "name": "python3"
  },
  "language_info": {
   "codemirror_mode": {
    "name": "ipython",
    "version": 3
   },
   "file_extension": ".py",
   "mimetype": "text/x-python",
   "name": "python",
   "nbconvert_exporter": "python",
   "pygments_lexer": "ipython3",
   "version": "3.7.6"
  },
  "toc": {
   "base_numbering": 1,
   "nav_menu": {},
   "number_sections": true,
   "sideBar": true,
   "skip_h1_title": false,
   "title_cell": "Table of Contents",
   "title_sidebar": "Contents",
   "toc_cell": true,
   "toc_position": {},
   "toc_section_display": true,
   "toc_window_display": true
  }
 },
 "nbformat": 4,
 "nbformat_minor": 4
}
