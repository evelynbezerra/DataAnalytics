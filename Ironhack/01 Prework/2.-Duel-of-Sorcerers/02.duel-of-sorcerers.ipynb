{
 "cells": [
  {
   "cell_type": "markdown",
   "metadata": {},
   "source": [
    "<img src=\"https://bit.ly/2VnXWr2\" width=\"100\" align=\"left\">"
   ]
  },
  {
   "cell_type": "markdown",
   "metadata": {},
   "source": [
    "# Duel of Sorcerers\n",
    "You are witnessing an epic battle between two powerful sorcerers: Gandalf and Saruman. Each sorcerer has 10 spells of variable power in their mind and they are going to throw them one after the other. The winner of the duel will be the one who wins more of those clashes between spells. Spells are represented as a list of 10 integers whose value equals the power of the spell.\n",
    "```\n",
    "gandalf = [10, 11, 13, 30, 22, 11, 10, 33, 22, 22]\n",
    "saruman = [23, 66, 12, 43, 12, 10, 44, 23, 12, 17]\n",
    "```\n",
    "For example:\n",
    "- The first clash is won by Saruman: 10 against 23.\n",
    "- The second clash is won by Saruman: 11 against 66.\n",
    "- ...\n",
    "\n",
    "You will create two variables, one for each sorcerer, where the sum of clashes won will be stored. Depending on which variable is greater at the end of the duel, you will show one of the following three results on the screen:\n",
    "* Gandalf wins\n",
    "* Saruman wins\n",
    "* Tie\n",
    "\n",
    "<img src=\"images/content_lightning_bolt_big.jpg\" width=\"400\">"
   ]
  },
  {
   "cell_type": "markdown",
   "metadata": {},
   "source": [
    "## Tools\n",
    "You don't necessarily need to use all the tools. Maybe you opt to use some of them or completely different ones, they are given to help you shape the exercise. Programming exercises can be solved in many different ways.\n",
    "\n",
    "1. Data structures: **lists, dictionaries**\n",
    "2. Loop: **for loop**\n",
    "3. Conditional statements: **if-elif-else**\n",
    "4. Functions: **range(), len(), print()**\n",
    "\n",
    "## Tasks\n",
    "\n",
    "#### 1. Create two variables called `gandalf` and `saruman` and assign them the spell power lists. Create a variable called `spells` to store the number of spells that the sorcerers cast. "
   ]
  },
  {
   "cell_type": "code",
   "execution_count": 1,
   "metadata": {},
   "outputs": [
    {
     "data": {
      "text/plain": [
       "10"
      ]
     },
     "execution_count": 1,
     "metadata": {},
     "output_type": "execute_result"
    }
   ],
   "source": [
    "gandalf = [10, 11, 13, 30, 22, 11, 10, 33, 22, 22]\n",
    "saruman = [23, 66, 12, 43, 12, 10, 44, 23, 12, 17]\n",
    "spells=len(gandalf)\n",
    "spells"
   ]
  },
  {
   "cell_type": "markdown",
   "metadata": {},
   "source": [
    "#### 2. Create two variables called `gandalf_wins` and `saruman_wins`. Set both of them to 0. \n",
    "You will use these variables to count the number of clashes each sorcerer wins. "
   ]
  },
  {
   "cell_type": "code",
   "execution_count": 2,
   "metadata": {},
   "outputs": [],
   "source": [
    "gandalf_wins=0\n",
    "saruman_wins=0"
   ]
  },
  {
   "cell_type": "markdown",
   "metadata": {},
   "source": [
    "#### 3. Using the lists of spells of both sorcerers, update variables `gandalf_wins` and `saruman_wins` to count the number of times each sorcerer wins a clash. "
   ]
  },
  {
   "cell_type": "code",
   "execution_count": 10,
   "metadata": {},
   "outputs": [
    {
     "name": "stdout",
     "output_type": "stream",
     "text": [
      "\n",
      "duelo 1 \n",
      "Gandalf 10 x 23 Saruman\n",
      "Saruman Won\n",
      "\n",
      "duelo 2 \n",
      "Gandalf 11 x 66 Saruman\n",
      "Saruman Won\n",
      "\n",
      "duelo 3 \n",
      "Gandalf 13 x 12 Saruman\n",
      "Gandalf Won\n",
      "\n",
      "duelo 4 \n",
      "Gandalf 30 x 43 Saruman\n",
      "Saruman Won\n",
      "\n",
      "duelo 5 \n",
      "Gandalf 22 x 12 Saruman\n",
      "Gandalf Won\n",
      "\n",
      "duelo 6 \n",
      "Gandalf 11 x 10 Saruman\n",
      "Gandalf Won\n",
      "\n",
      "duelo 7 \n",
      "Gandalf 10 x 44 Saruman\n",
      "Saruman Won\n",
      "\n",
      "duelo 8 \n",
      "Gandalf 33 x 23 Saruman\n",
      "Gandalf Won\n",
      "\n",
      "duelo 9 \n",
      "Gandalf 22 x 12 Saruman\n",
      "Gandalf Won\n",
      "\n",
      "duelo 10 \n",
      "Gandalf 22 x 17 Saruman\n",
      "Gandalf Won\n",
      "\n",
      "\n",
      "Gandalf 6 Saruman 4\n"
     ]
    }
   ],
   "source": [
    "gandalf_wins=0\n",
    "saruman_wins=0\n",
    "spell_fight=0\n",
    "\n",
    "for i in range(len(gandalf)):\n",
    "    print('\\nduelo', i+1,\"\\nGandalf\",gandalf[i], 'x',saruman[i],\"Saruman\")\n",
    "    if int(gandalf[i]) > int(saruman[i]):\n",
    "        print('Gandalf Won')\n",
    "        gandalf_wins+=1 \n",
    "    if int(gandalf[i]) < int(saruman[i]):\n",
    "        print('Saruman Won')\n",
    "        saruman_wins+=1 \n",
    "    if int(gandalf[i]) == int(saruman[i]):\n",
    "        print(\"Ninguem Ganhou\")\n",
    "\n",
    "print(\"\\n\\nGandalf\",gandalf_wins, \"Saruman\",saruman_wins)\n"
   ]
  },
  {
   "cell_type": "markdown",
   "metadata": {},
   "source": [
    "#### 4. Who won the battle?\n",
    "Print `Gandalf wins`, `Saruman wins` or `Tie` depending on the result. "
   ]
  },
  {
   "cell_type": "code",
   "execution_count": 11,
   "metadata": {},
   "outputs": [
    {
     "name": "stdout",
     "output_type": "stream",
     "text": [
      "Gandalf Won\n"
     ]
    }
   ],
   "source": [
    "if gandalf_wins > saruman_wins:\n",
    "     print(\"Gandalf Won\") \n",
    "elif gandalf_wins > saruman_wins:\n",
    "     print(\"Saruman Won\") \n",
    "else:\n",
    "     print(\"Tie\") "
   ]
  },
  {
   "cell_type": "markdown",
   "metadata": {},
   "source": [
    "## Bonus\n",
    "\n",
    "In this bonus challenge, you'll need to check the winner of the battle but this time, a sorcerer wins if he succeeds in winning 3 spell clashes in a row.\n",
    "\n",
    "Also, the spells now have a name and there is a dictionary that associates that name to a power.\n",
    "\n",
    "```\n",
    "POWER = {\n",
    "    'Fireball': 50, \n",
    "    'Lightning bolt': 40, \n",
    "    'Magic arrow': 10, \n",
    "    'Black Tentacles': 25, \n",
    "    'Contagion': 45\n",
    "}\n",
    "\n",
    "gandalf = ['Fireball', 'Lightning bolt', 'Lightning bolt', 'Magic arrow', 'Fireball', \n",
    "           'Magic arrow', 'Lightning bolt', 'Fireball', 'Fireball', 'Fireball']\n",
    "saruman = ['Contagion', 'Contagion', 'Black Tentacles', 'Fireball', 'Black Tentacles', \n",
    "           'Lightning bolt', 'Magic arrow', 'Contagion', 'Magic arrow', 'Magic arrow']\n",
    "```\n",
    "\n",
    "#### 1. Create variables `POWER`, `gandalf` and `saruman` as seen above. Create a variable called `spells` to store the number of spells that the sorcerers cast. "
   ]
  },
  {
   "cell_type": "code",
   "execution_count": 16,
   "metadata": {},
   "outputs": [],
   "source": [
    "power = {\n",
    "    'Fireball': 50, \n",
    "    'Lightning bolt': 40, \n",
    "    'Magic arrow': 10, \n",
    "    'Black Tentacles': 25, \n",
    "    'Contagion': 45\n",
    "}"
   ]
  },
  {
   "cell_type": "code",
   "execution_count": 17,
   "metadata": {},
   "outputs": [],
   "source": [
    "gandalf = ['Fireball', 'Lightning bolt', 'Lightning bolt', 'Magic arrow', 'Fireball', \n",
    "           'Magic arrow', 'Lightning bolt', 'Fireball', 'Fireball', 'Fireball']"
   ]
  },
  {
   "cell_type": "code",
   "execution_count": 39,
   "metadata": {},
   "outputs": [],
   "source": [
    "saruman = ['Contagion', 'Contagion', 'Black Tentacles', 'Fireball', 'Black Tentacles', \n",
    "           'Lightning bolt', 'Magic arrow', 'Contagion', 'Magic arrow', 'Magic arrow']"
   ]
  },
  {
   "cell_type": "markdown",
   "metadata": {},
   "source": [
    "#### 2. Create two variables called `gandalf_wins` and `saruman_wins`. Set both of them to 0. "
   ]
  },
  {
   "cell_type": "code",
   "execution_count": 19,
   "metadata": {},
   "outputs": [],
   "source": [
    "gandalf_wins=0\n",
    "saruman_wins=0"
   ]
  },
  {
   "cell_type": "markdown",
   "metadata": {},
   "source": [
    "#### 3. Create two variables called `gandalf_power` and `saruman_power` to store the list of spell powers of each sorcerer."
   ]
  },
  {
   "cell_type": "code",
   "execution_count": 27,
   "metadata": {},
   "outputs": [
    {
     "data": {
      "text/plain": [
       "dict_items([('Fireball', 50), ('Lightning bolt', 40), ('Magic arrow', 10), ('Black Tentacles', 25), ('Contagion', 45)])"
      ]
     },
     "execution_count": 27,
     "metadata": {},
     "output_type": "execute_result"
    }
   ],
   "source": [
    "#teste\n",
    "power.items()"
   ]
  },
  {
   "cell_type": "code",
   "execution_count": 30,
   "metadata": {},
   "outputs": [
    {
     "data": {
      "text/plain": [
       "dict_keys(['Fireball', 'Lightning bolt', 'Magic arrow', 'Black Tentacles', 'Contagion'])"
      ]
     },
     "execution_count": 30,
     "metadata": {},
     "output_type": "execute_result"
    }
   ],
   "source": [
    "#teste\n",
    "power.keys()"
   ]
  },
  {
   "cell_type": "code",
   "execution_count": 31,
   "metadata": {},
   "outputs": [
    {
     "data": {
      "text/plain": [
       "dict_values([50, 40, 10, 25, 45])"
      ]
     },
     "execution_count": 31,
     "metadata": {},
     "output_type": "execute_result"
    }
   ],
   "source": [
    "#teste\n",
    "power.values()"
   ]
  },
  {
   "cell_type": "code",
   "execution_count": 29,
   "metadata": {},
   "outputs": [
    {
     "name": "stdout",
     "output_type": "stream",
     "text": [
      "Fireball 50\n",
      "Lightning bolt 40\n",
      "Magic arrow 10\n",
      "Black Tentacles 25\n",
      "Contagion 45\n"
     ]
    }
   ],
   "source": [
    "#teste\n",
    "\n",
    "for i,j in power.items():\n",
    "    print(i, j)\n"
   ]
  },
  {
   "cell_type": "code",
   "execution_count": 42,
   "metadata": {},
   "outputs": [
    {
     "name": "stdout",
     "output_type": "stream",
     "text": [
      "Fireball 50\n",
      "Lightning bolt 40\n",
      "Lightning bolt 40\n",
      "Magic arrow 10\n",
      "Fireball 50\n",
      "Magic arrow 10\n",
      "Lightning bolt 40\n",
      "Fireball 50\n",
      "Fireball 50\n",
      "Fireball 50\n"
     ]
    },
    {
     "data": {
      "text/plain": [
       "[50, 40, 40, 10, 50, 10, 40, 50, 50, 50]"
      ]
     },
     "execution_count": 42,
     "metadata": {},
     "output_type": "execute_result"
    }
   ],
   "source": [
    "gandalf_power=[]\n",
    "for i in gandalf:\n",
    "    print(i,power[i])\n",
    "    gandalf_power.append(power[i])\n",
    "gandalf_power"
   ]
  },
  {
   "cell_type": "code",
   "execution_count": 41,
   "metadata": {},
   "outputs": [
    {
     "name": "stdout",
     "output_type": "stream",
     "text": [
      "Contagion 45\n",
      "Contagion 45\n",
      "Black Tentacles 25\n",
      "Fireball 50\n",
      "Black Tentacles 25\n",
      "Lightning bolt 40\n",
      "Magic arrow 10\n",
      "Contagion 45\n",
      "Magic arrow 10\n",
      "Magic arrow 10\n"
     ]
    },
    {
     "data": {
      "text/plain": [
       "[45, 45, 25, 50, 25, 40, 10, 45, 10, 10]"
      ]
     },
     "execution_count": 41,
     "metadata": {},
     "output_type": "execute_result"
    }
   ],
   "source": [
    "saruman_power=[]\n",
    "for i in saruman:\n",
    "    print(i,power[i])\n",
    "    saruman_power.append(power[i])\n",
    "saruman_power"
   ]
  },
  {
   "cell_type": "markdown",
   "metadata": {},
   "source": [
    "#### 4. The battle starts! Using the variables you've created above, code the execution of spell clashes. Remember that a sorcerer wins if he succeeds in winning 3 spell clashes in a row. \n",
    "If a clash ends up in a tie, the counter of wins in a row is not restarted to 0. Remember to print who is the winner of the battle. "
   ]
  },
  {
   "cell_type": "code",
   "execution_count": 65,
   "metadata": {},
   "outputs": [
    {
     "name": "stdout",
     "output_type": "stream",
     "text": [
      "\n",
      "duelo 1 \n",
      "Gandalf 50 x 45 Saruman\n",
      "Gandalf Won\n",
      "Gandalf 1 Saruman 0\n",
      "\n",
      "duelo 2 \n",
      "Gandalf 40 x 45 Saruman\n",
      "Saruman Won\n",
      "Gandalf 0 Saruman 1\n",
      "\n",
      "duelo 3 \n",
      "Gandalf 40 x 25 Saruman\n",
      "Gandalf Won\n",
      "Gandalf 1 Saruman 0\n",
      "\n",
      "duelo 4 \n",
      "Gandalf 10 x 50 Saruman\n",
      "Saruman Won\n",
      "Gandalf 0 Saruman 1\n",
      "\n",
      "duelo 5 \n",
      "Gandalf 50 x 25 Saruman\n",
      "Gandalf Won\n",
      "Gandalf 1 Saruman 0\n",
      "\n",
      "duelo 6 \n",
      "Gandalf 10 x 40 Saruman\n",
      "Saruman Won\n",
      "Gandalf 0 Saruman 1\n",
      "\n",
      "duelo 7 \n",
      "Gandalf 40 x 10 Saruman\n",
      "Gandalf Won\n",
      "Gandalf 1 Saruman 0\n",
      "\n",
      "duelo 8 \n",
      "Gandalf 50 x 45 Saruman\n",
      "Gandalf Won\n",
      "Gandalf 2 Saruman 0\n",
      "\n",
      "duelo 9 \n",
      "Gandalf 50 x 10 Saruman\n",
      "Gandalf Won\n",
      "\n",
      "\n",
      "Gandalf 3 Saruman 0\n"
     ]
    }
   ],
   "source": [
    "gandalf_wins=0\n",
    "saruman_wins=0\n",
    "spell_fight=0\n",
    "\n",
    "for i in range(len(gandalf_power)):\n",
    "        print('\\nduelo', i+1,\"\\nGandalf\",gandalf_power[i], 'x',saruman_power[i],\"Saruman\")\n",
    "        if int(gandalf_power[i]) > int(saruman_power[i]):\n",
    "            print('Gandalf Won')\n",
    "            gandalf_wins+=1 \n",
    "            saruman_wins=0\n",
    "            if gandalf_wins==3:\n",
    "                break\n",
    "            print(\"Gandalf\",gandalf_wins, \"Saruman\",saruman_wins)\n",
    "        elif int(gandalf_power[i]) < int(saruman_power[i]):\n",
    "            print('Saruman Won')\n",
    "            saruman_wins+=1 \n",
    "            gandalf_wins=0\n",
    "            print(\"Gandalf\",gandalf_wins, \"Saruman\",saruman_wins)\n",
    "            if saruman_wins==3:\n",
    "                break\n",
    "        else:\n",
    "            print(\"Ninguem Ganhou\") \n",
    "            print(\"Gandalf\",gandalf_wins, \"Saruman\",saruman_wins)         \n",
    "print(\"\\n\\nGandalf\",gandalf_wins, \"Saruman\",saruman_wins)"
   ]
  },
  {
   "cell_type": "markdown",
   "metadata": {},
   "source": [
    "#### 5. Find the average spell power of Gandalf and Saruman. "
   ]
  },
  {
   "cell_type": "code",
   "execution_count": 75,
   "metadata": {},
   "outputs": [
    {
     "name": "stdout",
     "output_type": "stream",
     "text": [
      "Gandalf Mean: 39.0\n",
      "Saruman Mean: 30.5\n"
     ]
    }
   ],
   "source": [
    "gandalf_mean=sum(gandalf_power)/len(gandalf_power)\n",
    "print('Gandalf Mean:',gandalf_mean)\n",
    "saruman_mean=sum(saruman_power)/len(saruman_power)\n",
    "print('Saruman Mean:',saruman_mean)"
   ]
  },
  {
   "cell_type": "code",
   "execution_count": 68,
   "metadata": {},
   "outputs": [
    {
     "data": {
      "text/plain": [
       "30.5"
      ]
     },
     "execution_count": 68,
     "metadata": {},
     "output_type": "execute_result"
    }
   ],
   "source": []
  },
  {
   "cell_type": "markdown",
   "metadata": {},
   "source": [
    "#### 6. Find the standard deviation of the spell power of Gandalf and Saruman. "
   ]
  },
  {
   "cell_type": "code",
   "execution_count": 73,
   "metadata": {},
   "outputs": [
    {
     "name": "stdout",
     "output_type": "stream",
     "text": [
      "Gandalf 15.951314818673865 \n",
      "Saruman 16.40629960309962\n"
     ]
    }
   ],
   "source": [
    "from statistics import stdev\n",
    "print('Gandalf Stdev:',stdev(gandalf_power),\n",
    "'\\nSaruman Stdev:',stdev(saruman_power))"
   ]
  }
 ],
 "metadata": {
  "kernelspec": {
   "display_name": "Python 3",
   "language": "python",
   "name": "python3"
  },
  "language_info": {
   "codemirror_mode": {
    "name": "ipython",
    "version": 3
   },
   "file_extension": ".py",
   "mimetype": "text/x-python",
   "name": "python",
   "nbconvert_exporter": "python",
   "pygments_lexer": "ipython3",
   "version": "3.7.6"
  }
 },
 "nbformat": 4,
 "nbformat_minor": 4
}
