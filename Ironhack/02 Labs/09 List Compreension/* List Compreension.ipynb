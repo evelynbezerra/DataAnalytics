{
 "cells": [
  {
   "cell_type": "markdown",
   "metadata": {},
   "source": [
    "# List Comprehension"
   ]
  },
  {
   "cell_type": "code",
   "execution_count": 3,
   "metadata": {},
   "outputs": [
    {
     "data": {
      "text/plain": [
       "[0, 1, 4, 9, 16, 25, 36, 49, 64, 81]"
      ]
     },
     "execution_count": 3,
     "metadata": {},
     "output_type": "execute_result"
    }
   ],
   "source": [
    "#Without List Comprehension\n",
    "old_lst = [0,1,2,3,4,5,6,7,8,9]\n",
    "\n",
    "lst = []\n",
    "\n",
    "for number in old_lst:\n",
    "    lst.append(number ** 2)\n",
    "\n",
    "lst"
   ]
  },
  {
   "cell_type": "code",
   "execution_count": 2,
   "metadata": {},
   "outputs": [],
   "source": [
    "#With List Comprehension\n",
    "\n",
    "lst2 = [number**2 for number in old_lst]\n",
    "\n",
    "lst2"
   ]
  },
  {
   "cell_type": "markdown",
   "metadata": {},
   "source": [
    "## Filtering"
   ]
  },
  {
   "cell_type": "code",
   "execution_count": 3,
   "metadata": {},
   "outputs": [],
   "source": [
    "lst3 = []\n",
    "\n",
    "for number in old_lst:\n",
    "    if number > 5:\n",
    "        lst3.append(number**2)\n",
    "        \n",
    "lst3"
   ]
  },
  {
   "cell_type": "code",
   "execution_count": 4,
   "metadata": {},
   "outputs": [
    {
     "data": {
      "text/plain": [
       "[36, 49, 64, 81]"
      ]
     },
     "execution_count": 4,
     "metadata": {},
     "output_type": "execute_result"
    }
   ],
   "source": [
    "lst4 = [number**2 for number in old_lst if number > 5]\n",
    "\n",
    "lst4"
   ]
  },
  {
   "cell_type": "code",
   "execution_count": 5,
   "metadata": {},
   "outputs": [
    {
     "data": {
      "text/plain": [
       "[[1, 1, 1.0],\n",
       " [4, 8, 2.0],\n",
       " [9, 27, 3.0],\n",
       " [16, 64, 4.0],\n",
       " [25, 125, 5.0],\n",
       " [36, 216, 6.0],\n",
       " [49, 343, 7.0],\n",
       " [64, 512, 8.0],\n",
       " [81, 729, 9.0]]"
      ]
     },
     "execution_count": 5,
     "metadata": {},
     "output_type": "execute_result"
    }
   ],
   "source": [
    "lst5 = [[number**2, number**3, number**3/number**2] for number in old_lst if number != 0]\n",
    "\n",
    "lst5"
   ]
  },
  {
   "cell_type": "markdown",
   "metadata": {},
   "source": [
    "## IF ... ELSE"
   ]
  },
  {
   "cell_type": "code",
   "execution_count": 6,
   "metadata": {},
   "outputs": [
    {
     "data": {
      "text/plain": [
       "['even', 'odd', 'even', 'odd', 'even', 'odd', 'even', 'odd', 'even', 'odd']"
      ]
     },
     "execution_count": 6,
     "metadata": {},
     "output_type": "execute_result"
    }
   ],
   "source": [
    "lst6 = []\n",
    "\n",
    "for number in old_lst:\n",
    "    if number % 2 != 0:\n",
    "        lst6.append(\"odd\")\n",
    "    else:\n",
    "        lst6.append(\"even\")\n",
    "        \n",
    "lst6"
   ]
  },
  {
   "cell_type": "code",
   "execution_count": 7,
   "metadata": {},
   "outputs": [
    {
     "data": {
      "text/plain": [
       "['even', 'odd', 'even', 'odd', 'even', 'odd', 'even', 'odd', 'even', 'odd']"
      ]
     },
     "execution_count": 7,
     "metadata": {},
     "output_type": "execute_result"
    }
   ],
   "source": [
    "lst7 = [\"odd\" if number % 2 != 0 else \"even\" for number in old_lst]\n",
    "\n",
    "lst7"
   ]
  }
 ],
 "metadata": {
  "kernelspec": {
   "display_name": "Python 3",
   "language": "python",
   "name": "python3"
  },
  "language_info": {
   "codemirror_mode": {
    "name": "ipython",
    "version": 3
   },
   "file_extension": ".py",
   "mimetype": "text/x-python",
   "name": "python",
   "nbconvert_exporter": "python",
   "pygments_lexer": "ipython3",
   "version": "3.7.6"
  }
 },
 "nbformat": 4,
 "nbformat_minor": 4
}
