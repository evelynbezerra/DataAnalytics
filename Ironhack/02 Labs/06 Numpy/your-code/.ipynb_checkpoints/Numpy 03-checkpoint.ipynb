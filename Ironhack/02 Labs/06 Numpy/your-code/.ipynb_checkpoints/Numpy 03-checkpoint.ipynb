{
 "cells": [
  {
   "cell_type": "markdown",
   "metadata": {},
   "source": [
    "# Introduction to NumPy\n",
    "\n",
    "\n",
    "#### 1. Import NumPy under the name np."
   ]
  },
  {
   "cell_type": "code",
   "execution_count": 1,
   "metadata": {},
   "outputs": [],
   "source": [
    "import numpy as np\n",
    "import random"
   ]
  },
  {
   "cell_type": "markdown",
   "metadata": {},
   "source": [
    "#### 2. Print your NumPy version."
   ]
  },
  {
   "cell_type": "code",
   "execution_count": 2,
   "metadata": {},
   "outputs": [
    {
     "name": "stdout",
     "output_type": "stream",
     "text": [
      "blas_mkl_info:\n",
      "  NOT AVAILABLE\n",
      "blis_info:\n",
      "  NOT AVAILABLE\n",
      "openblas_info:\n",
      "    libraries = ['openblas', 'openblas']\n",
      "    library_dirs = ['/usr/local/lib']\n",
      "    language = c\n",
      "    define_macros = [('HAVE_CBLAS', None)]\n",
      "blas_opt_info:\n",
      "    libraries = ['openblas', 'openblas']\n",
      "    library_dirs = ['/usr/local/lib']\n",
      "    language = c\n",
      "    define_macros = [('HAVE_CBLAS', None)]\n",
      "lapack_mkl_info:\n",
      "  NOT AVAILABLE\n",
      "openblas_lapack_info:\n",
      "    libraries = ['openblas', 'openblas']\n",
      "    library_dirs = ['/usr/local/lib']\n",
      "    language = c\n",
      "    define_macros = [('HAVE_CBLAS', None)]\n",
      "lapack_opt_info:\n",
      "    libraries = ['openblas', 'openblas']\n",
      "    library_dirs = ['/usr/local/lib']\n",
      "    language = c\n",
      "    define_macros = [('HAVE_CBLAS', None)]\n"
     ]
    }
   ],
   "source": [
    "np.show_config()"
   ]
  },
  {
   "cell_type": "code",
   "execution_count": 3,
   "metadata": {},
   "outputs": [
    {
     "data": {
      "text/plain": [
       "'1.17.4'"
      ]
     },
     "execution_count": 3,
     "metadata": {},
     "output_type": "execute_result"
    }
   ],
   "source": [
    "np.version.version"
   ]
  },
  {
   "cell_type": "markdown",
   "metadata": {},
   "source": [
    "#### 3. Generate a 3x2x5 3-dimensional array with random values. Assign the array to variable *a*.\n",
    "**Challenge**: there are at least three easy ways that use numpy to generate random arrays. How many ways can you find?"
   ]
  },
  {
   "cell_type": "code",
   "execution_count": 4,
   "metadata": {},
   "outputs": [
    {
     "name": "stdout",
     "output_type": "stream",
     "text": [
      "[[[0.04174345 0.34238086 0.69460908 0.39880423 0.36280022]\n",
      "  [0.0726969  0.64709507 0.79523094 0.72582975 0.90854931]]\n",
      "\n",
      " [[0.72094746 0.53565788 0.35298422 0.20863705 0.48636905]\n",
      "  [0.72817964 0.64598959 0.03717968 0.36235435 0.35035737]]\n",
      "\n",
      " [[0.33967481 0.32719066 0.59276212 0.22543764 0.22610725]\n",
      "  [0.86370123 0.86713768 0.34410748 0.38111197 0.43616975]]]\n"
     ]
    }
   ],
   "source": [
    "a=np.random.random((3,2,5))\n",
    "print(a)"
   ]
  },
  {
   "cell_type": "code",
   "execution_count": 5,
   "metadata": {},
   "outputs": [
    {
     "name": "stdout",
     "output_type": "stream",
     "text": [
      "(74, 11, 17, 99, 89, 2, 38, 8, 16, 39, 7, 56, 59, 34, 85, 41, 81, 20, 86, 0, 35, 47, 24, 69, 27, 31, 10, 49, 65, 5)\n",
      "[[[74 11 17 99 89]\n",
      "  [ 2 38  8 16 39]]\n",
      "\n",
      " [[ 7 56 59 34 85]\n",
      "  [41 81 20 86  0]]\n",
      "\n",
      " [[35 47 24 69 27]\n",
      "  [31 10 49 65  5]]]\n"
     ]
    }
   ],
   "source": [
    "list=random.sample(range(0,100),30)\n",
    "tup=tuple(list)\n",
    "type(tup)\n",
    "print(tup)\n",
    "b=np.array(tup).reshape(3,2,5)\n",
    "print(b)"
   ]
  },
  {
   "cell_type": "code",
   "execution_count": 6,
   "metadata": {},
   "outputs": [
    {
     "name": "stdout",
     "output_type": "stream",
     "text": [
      "[[[ 1 14 82 65 52]\n",
      "  [51 19 17 45 21]]\n",
      "\n",
      " [[22 62  9 26 18]\n",
      "  [59 66 75 83 89]]\n",
      "\n",
      " [[73 29 24 60 49]\n",
      "  [70 98  7 15 47]]]\n"
     ]
    }
   ],
   "source": [
    "list1=random.sample(range(0,100),30)\n",
    "b1=np.array(list1).reshape(3,2,5)\n",
    "print(b1)"
   ]
  },
  {
   "cell_type": "code",
   "execution_count": 7,
   "metadata": {},
   "outputs": [
    {
     "name": "stdout",
     "output_type": "stream",
     "text": [
      "[[[ 0  1  2  3  4]\n",
      "  [ 5  6  7  8  9]]\n",
      "\n",
      " [[10 11 12 13 14]\n",
      "  [15 16 17 18 19]]\n",
      "\n",
      " [[20 21 22 23 24]\n",
      "  [25 26 27 28 29]]]\n"
     ]
    }
   ],
   "source": [
    "list2=np.arange(30).reshape(3,2,5)\n",
    "print(list2)"
   ]
  },
  {
   "cell_type": "markdown",
   "metadata": {},
   "source": [
    "#### 4. Print *a*.\n"
   ]
  },
  {
   "cell_type": "code",
   "execution_count": 8,
   "metadata": {},
   "outputs": [
    {
     "name": "stdout",
     "output_type": "stream",
     "text": [
      "[[[0.04174345 0.34238086 0.69460908 0.39880423 0.36280022]\n",
      "  [0.0726969  0.64709507 0.79523094 0.72582975 0.90854931]]\n",
      "\n",
      " [[0.72094746 0.53565788 0.35298422 0.20863705 0.48636905]\n",
      "  [0.72817964 0.64598959 0.03717968 0.36235435 0.35035737]]\n",
      "\n",
      " [[0.33967481 0.32719066 0.59276212 0.22543764 0.22610725]\n",
      "  [0.86370123 0.86713768 0.34410748 0.38111197 0.43616975]]]\n"
     ]
    }
   ],
   "source": [
    "print(a)"
   ]
  },
  {
   "cell_type": "markdown",
   "metadata": {},
   "source": [
    "#### 5. Create a 5x2x3 3-dimensional array with all values equaling 1. Assign the array to variable *b*."
   ]
  },
  {
   "cell_type": "code",
   "execution_count": 9,
   "metadata": {},
   "outputs": [],
   "source": [
    "b= np.ones((5,2,3))\n"
   ]
  },
  {
   "cell_type": "markdown",
   "metadata": {},
   "source": [
    "#### 6. Print *b*.\n"
   ]
  },
  {
   "cell_type": "code",
   "execution_count": 10,
   "metadata": {},
   "outputs": [
    {
     "name": "stdout",
     "output_type": "stream",
     "text": [
      "[[[1. 1. 1.]\n",
      "  [1. 1. 1.]]\n",
      "\n",
      " [[1. 1. 1.]\n",
      "  [1. 1. 1.]]\n",
      "\n",
      " [[1. 1. 1.]\n",
      "  [1. 1. 1.]]\n",
      "\n",
      " [[1. 1. 1.]\n",
      "  [1. 1. 1.]]\n",
      "\n",
      " [[1. 1. 1.]\n",
      "  [1. 1. 1.]]]\n"
     ]
    }
   ],
   "source": [
    "print(b)"
   ]
  },
  {
   "cell_type": "markdown",
   "metadata": {},
   "source": [
    "#### 7. Do *a* and *b* have the same size? How do you prove that in Python code?"
   ]
  },
  {
   "cell_type": "code",
   "execution_count": 11,
   "metadata": {},
   "outputs": [
    {
     "name": "stdout",
     "output_type": "stream",
     "text": [
      "3 5\n"
     ]
    }
   ],
   "source": [
    "print(len(a),len(b))\n",
    "#Possuem diferentes tamanhos 3 e 5"
   ]
  },
  {
   "cell_type": "code",
   "execution_count": 12,
   "metadata": {},
   "outputs": [
    {
     "name": "stderr",
     "output_type": "stream",
     "text": [
      "/usr/local/Cellar/ipython/7.8.0/libexec/vendor/lib/python3.7/site-packages/ipykernel_launcher.py:1: DeprecationWarning: elementwise comparison failed; this will raise an error in the future.\n",
      "  \"\"\"Entry point for launching an IPython kernel.\n"
     ]
    },
    {
     "data": {
      "text/plain": [
       "False"
      ]
     },
     "execution_count": 12,
     "metadata": {},
     "output_type": "execute_result"
    }
   ],
   "source": [
    "a==b"
   ]
  },
  {
   "cell_type": "markdown",
   "metadata": {},
   "source": [
    "#### 8. Are you able to add *a* and *b*? Why or why not?\n"
   ]
  },
  {
   "cell_type": "code",
   "execution_count": 13,
   "metadata": {},
   "outputs": [
    {
     "ename": "ValueError",
     "evalue": "operands could not be broadcast together with shapes (3,2,5) (5,2,3) ",
     "output_type": "error",
     "traceback": [
      "\u001b[0;31m---------------------------------------------------------------------------\u001b[0m",
      "\u001b[0;31mValueError\u001b[0m                                Traceback (most recent call last)",
      "\u001b[0;32m<ipython-input-13-5306c31b5fbc>\u001b[0m in \u001b[0;36m<module>\u001b[0;34m\u001b[0m\n\u001b[0;32m----> 1\u001b[0;31m \u001b[0mc\u001b[0m\u001b[0;34m=\u001b[0m\u001b[0ma\u001b[0m\u001b[0;34m+\u001b[0m\u001b[0mb\u001b[0m\u001b[0;34m\u001b[0m\u001b[0;34m\u001b[0m\u001b[0m\n\u001b[0m\u001b[1;32m      2\u001b[0m \u001b[0;34m\u001b[0m\u001b[0m\n\u001b[1;32m      3\u001b[0m \u001b[0;31m## Na tentativa de realizar a soma Retornou a mensagem abaixo, elas nao podem ser somadas.\u001b[0m\u001b[0;34m\u001b[0m\u001b[0;34m\u001b[0m\u001b[0;34m\u001b[0m\u001b[0m\n\u001b[1;32m      4\u001b[0m \u001b[0;31m# ValueError: operands could not be broadcast together with shapes (3,2,5) (5,2,3)\u001b[0m\u001b[0;34m\u001b[0m\u001b[0;34m\u001b[0m\u001b[0;34m\u001b[0m\u001b[0m\n",
      "\u001b[0;31mValueError\u001b[0m: operands could not be broadcast together with shapes (3,2,5) (5,2,3) "
     ]
    }
   ],
   "source": [
    "c=a+b\n",
    "\n",
    "## Na tentativa de realizar a soma Retornou a mensagem abaixo, elas nao podem ser somadas.\n",
    "# ValueError: operands could not be broadcast together with shapes (3,2,5) (5,2,3) \n"
   ]
  },
  {
   "cell_type": "code",
   "execution_count": 14,
   "metadata": {},
   "outputs": [
    {
     "name": "stdout",
     "output_type": "stream",
     "text": [
      "(3, 2, 5) (5, 2, 3)\n"
     ]
    }
   ],
   "source": [
    "print(a.shape,b.shape)\n"
   ]
  },
  {
   "cell_type": "markdown",
   "metadata": {},
   "source": [
    "#### 9. Transpose *b* so that it has the same structure of *a* (i.e. become a 2x3x5 array). Assign the transposed array to variable *c*."
   ]
  },
  {
   "cell_type": "code",
   "execution_count": 15,
   "metadata": {},
   "outputs": [
    {
     "name": "stdout",
     "output_type": "stream",
     "text": [
      "(3, 2, 5)\n"
     ]
    }
   ],
   "source": [
    "c=b.T\n",
    "print(c.shape)"
   ]
  },
  {
   "cell_type": "markdown",
   "metadata": {},
   "source": [
    "#### 10. Try to add *a* and *c*. Now it should work. Assign the sum to variable *d*. But why does it work now?"
   ]
  },
  {
   "cell_type": "code",
   "execution_count": 16,
   "metadata": {},
   "outputs": [
    {
     "name": "stdout",
     "output_type": "stream",
     "text": [
      "[[[1.04174345 1.34238086 1.69460908 1.39880423 1.36280022]\n",
      "  [1.0726969  1.64709507 1.79523094 1.72582975 1.90854931]]\n",
      "\n",
      " [[1.72094746 1.53565788 1.35298422 1.20863705 1.48636905]\n",
      "  [1.72817964 1.64598959 1.03717968 1.36235435 1.35035737]]\n",
      "\n",
      " [[1.33967481 1.32719066 1.59276212 1.22543764 1.22610725]\n",
      "  [1.86370123 1.86713768 1.34410748 1.38111197 1.43616975]]]\n"
     ]
    }
   ],
   "source": [
    "d=a+c\n",
    "print(d)"
   ]
  },
  {
   "cell_type": "markdown",
   "metadata": {},
   "source": [
    "#### 11. Print *a* and *d*. Notice the difference and relation of the two array in terms of the values? Explain."
   ]
  },
  {
   "cell_type": "code",
   "execution_count": 17,
   "metadata": {},
   "outputs": [
    {
     "name": "stdout",
     "output_type": "stream",
     "text": [
      "[[[0.04174345 0.34238086 0.69460908 0.39880423 0.36280022]\n",
      "  [0.0726969  0.64709507 0.79523094 0.72582975 0.90854931]]\n",
      "\n",
      " [[0.72094746 0.53565788 0.35298422 0.20863705 0.48636905]\n",
      "  [0.72817964 0.64598959 0.03717968 0.36235435 0.35035737]]\n",
      "\n",
      " [[0.33967481 0.32719066 0.59276212 0.22543764 0.22610725]\n",
      "  [0.86370123 0.86713768 0.34410748 0.38111197 0.43616975]]]\n"
     ]
    }
   ],
   "source": [
    "print(a)\n",
    "# para cada elemento correspondente foi somado 1"
   ]
  },
  {
   "cell_type": "markdown",
   "metadata": {},
   "source": [
    "#### 12. Multiply *a* and *c*. Assign the result to *e*."
   ]
  },
  {
   "cell_type": "code",
   "execution_count": 18,
   "metadata": {},
   "outputs": [
    {
     "name": "stdout",
     "output_type": "stream",
     "text": [
      "[[[0.04174345 0.34238086 0.69460908 0.39880423 0.36280022]\n",
      "  [0.0726969  0.64709507 0.79523094 0.72582975 0.90854931]]\n",
      "\n",
      " [[0.72094746 0.53565788 0.35298422 0.20863705 0.48636905]\n",
      "  [0.72817964 0.64598959 0.03717968 0.36235435 0.35035737]]\n",
      "\n",
      " [[0.33967481 0.32719066 0.59276212 0.22543764 0.22610725]\n",
      "  [0.86370123 0.86713768 0.34410748 0.38111197 0.43616975]]]\n"
     ]
    }
   ],
   "source": [
    "e=a*c\n",
    "print(e)\n"
   ]
  },
  {
   "cell_type": "markdown",
   "metadata": {},
   "source": [
    "#### 13. Does *e* equal to *a*? Why or why not?\n"
   ]
  },
  {
   "cell_type": "code",
   "execution_count": 19,
   "metadata": {},
   "outputs": [],
   "source": [
    "# Porque a matriz c é composta por 1 e todo numero multiplicado por da ele mesmo"
   ]
  },
  {
   "cell_type": "markdown",
   "metadata": {},
   "source": [
    "#### 14. Identify the max, min, and mean values in *d*. Assign those values to variables *d_max*, *d_min* and *d_mean*."
   ]
  },
  {
   "cell_type": "code",
   "execution_count": 20,
   "metadata": {},
   "outputs": [
    {
     "data": {
      "text/plain": [
       "1.0371796822543584"
      ]
     },
     "execution_count": 20,
     "metadata": {},
     "output_type": "execute_result"
    }
   ],
   "source": [
    "d.min()"
   ]
  },
  {
   "cell_type": "code",
   "execution_count": 21,
   "metadata": {},
   "outputs": [
    {
     "data": {
      "text/plain": [
       "1.9085493088595222"
      ]
     },
     "execution_count": 21,
     "metadata": {},
     "output_type": "execute_result"
    }
   ],
   "source": [
    "d.max()"
   ]
  },
  {
   "cell_type": "code",
   "execution_count": 22,
   "metadata": {},
   "outputs": [
    {
     "data": {
      "text/plain": [
       "1.467393223065127"
      ]
     },
     "execution_count": 22,
     "metadata": {},
     "output_type": "execute_result"
    }
   ],
   "source": [
    "d.mean()"
   ]
  },
  {
   "cell_type": "markdown",
   "metadata": {},
   "source": [
    "#### 15. Now we want to label the values in *d*. First create an empty array *f* with the same shape (i.e. 2x3x5) as *d* using `np.empty`.\n"
   ]
  },
  {
   "cell_type": "code",
   "execution_count": 23,
   "metadata": {},
   "outputs": [
    {
     "data": {
      "text/plain": [
       "(3, 2, 5)"
      ]
     },
     "execution_count": 23,
     "metadata": {},
     "output_type": "execute_result"
    }
   ],
   "source": [
    "d.shape"
   ]
  },
  {
   "cell_type": "code",
   "execution_count": 24,
   "metadata": {},
   "outputs": [
    {
     "name": "stdout",
     "output_type": "stream",
     "text": [
      "[[[0.04174345 0.34238086 0.69460908 0.39880423 0.36280022]\n",
      "  [0.0726969  0.64709507 0.79523094 0.72582975 0.90854931]]\n",
      "\n",
      " [[0.72094746 0.53565788 0.35298422 0.20863705 0.48636905]\n",
      "  [0.72817964 0.64598959 0.03717968 0.36235435 0.35035737]]\n",
      "\n",
      " [[0.33967481 0.32719066 0.59276212 0.22543764 0.22610725]\n",
      "  [0.86370123 0.86713768 0.34410748 0.38111197 0.43616975]]]\n"
     ]
    }
   ],
   "source": [
    "f=np.empty((3,2,5),dtype=float)\n",
    "print(f)"
   ]
  },
  {
   "cell_type": "code",
   "execution_count": 25,
   "metadata": {},
   "outputs": [
    {
     "name": "stdout",
     "output_type": "stream",
     "text": [
      "Help on built-in function empty in module numpy:\n",
      "\n",
      "empty(...)\n",
      "    empty(shape, dtype=float, order='C')\n",
      "    \n",
      "    Return a new array of given shape and type, without initializing entries.\n",
      "    \n",
      "    Parameters\n",
      "    ----------\n",
      "    shape : int or tuple of int\n",
      "        Shape of the empty array, e.g., ``(2, 3)`` or ``2``.\n",
      "    dtype : data-type, optional\n",
      "        Desired output data-type for the array, e.g, `numpy.int8`. Default is\n",
      "        `numpy.float64`.\n",
      "    order : {'C', 'F'}, optional, default: 'C'\n",
      "        Whether to store multi-dimensional data in row-major\n",
      "        (C-style) or column-major (Fortran-style) order in\n",
      "        memory.\n",
      "    \n",
      "    Returns\n",
      "    -------\n",
      "    out : ndarray\n",
      "        Array of uninitialized (arbitrary) data of the given shape, dtype, and\n",
      "        order.  Object arrays will be initialized to None.\n",
      "    \n",
      "    See Also\n",
      "    --------\n",
      "    empty_like : Return an empty array with shape and type of input.\n",
      "    ones : Return a new array setting values to one.\n",
      "    zeros : Return a new array setting values to zero.\n",
      "    full : Return a new array of given shape filled with value.\n",
      "    \n",
      "    \n",
      "    Notes\n",
      "    -----\n",
      "    `empty`, unlike `zeros`, does not set the array values to zero,\n",
      "    and may therefore be marginally faster.  On the other hand, it requires\n",
      "    the user to manually set all the values in the array, and should be\n",
      "    used with caution.\n",
      "    \n",
      "    Examples\n",
      "    --------\n",
      "    >>> np.empty([2, 2])\n",
      "    array([[ -9.74499359e+001,   6.69583040e-309],\n",
      "           [  2.13182611e-314,   3.06959433e-309]])         #uninitialized\n",
      "    \n",
      "    >>> np.empty([2, 2], dtype=int)\n",
      "    array([[-1073741821, -1067949133],\n",
      "           [  496041986,    19249760]])                     #uninitialized\n",
      "\n"
     ]
    }
   ],
   "source": [
    "help(np.empty)"
   ]
  },
  {
   "cell_type": "code",
   "execution_count": 26,
   "metadata": {},
   "outputs": [
    {
     "name": "stdout",
     "output_type": "stream",
     "text": [
      "0.33967481469774397\n"
     ]
    }
   ],
   "source": [
    "print(f[2,0,0])"
   ]
  },
  {
   "cell_type": "markdown",
   "metadata": {},
   "source": [
    "#### 16. Populate the values in *f*. \n",
    "\n",
    "For each value in *d*, if it's larger than *d_min* but smaller than *d_mean*, assign 25 to the corresponding value in *f*. If a value in *d* is larger than *d_mean* but smaller than *d_max*, assign 75 to the corresponding value in *f*. If a value equals to *d_mean*, assign 50 to the corresponding value in *f*. Assign 0 to the corresponding value(s) in *f* for *d_min* in *d*. Assign 100 to the corresponding value(s) in *f* for *d_max* in *d*. In the end, f should have only the following values: 0, 25, 50, 75, and 100.\n",
    "\n",
    "**Note**: you don't have to use Numpy in this question."
   ]
  },
  {
   "cell_type": "code",
   "execution_count": 27,
   "metadata": {},
   "outputs": [
    {
     "data": {
      "text/plain": [
       "(3, 2, 5)"
      ]
     },
     "execution_count": 27,
     "metadata": {},
     "output_type": "execute_result"
    }
   ],
   "source": [
    "d.shape"
   ]
  },
  {
   "cell_type": "code",
   "execution_count": 28,
   "metadata": {},
   "outputs": [
    {
     "name": "stdout",
     "output_type": "stream",
     "text": [
      "[[[1.04174345 1.34238086 1.69460908 1.39880423 1.36280022]\n",
      "  [1.0726969  1.64709507 1.79523094 1.72582975 1.90854931]]\n",
      "\n",
      " [[1.72094746 1.53565788 1.35298422 1.20863705 1.48636905]\n",
      "  [1.72817964 1.64598959 1.03717968 1.36235435 1.35035737]]\n",
      "\n",
      " [[1.33967481 1.32719066 1.59276212 1.22543764 1.22610725]\n",
      "  [1.86370123 1.86713768 1.34410748 1.38111197 1.43616975]]]\n",
      "min: 1.0371796822543584 mean: 1.467393223065127 max: 1.9085493088595222\n"
     ]
    }
   ],
   "source": [
    "print(d)\n",
    "print(\"min:\",d.min(),\"mean:\",d.mean(),\"max:\",d.max())"
   ]
  },
  {
   "cell_type": "code",
   "execution_count": 33,
   "metadata": {},
   "outputs": [
    {
     "name": "stdout",
     "output_type": "stream",
     "text": [
      "[[[ 25.  25.  75.  25.  25.]\n",
      "  [ 25.  75.  75.  75. 100.]]\n",
      "\n",
      " [[ 75.  75.  25.  25.  75.]\n",
      "  [ 75.  75.   0.  25.  25.]]\n",
      "\n",
      " [[ 25.  25.  75.  25.  25.]\n",
      "  [ 75.  75.  25.  25.  25.]]]\n"
     ]
    }
   ],
   "source": [
    "# O shape é (3,2,5) (x,y,z)\n",
    "for x in range(d.shape[0]):\n",
    "    for y in range(d.shape[1]):\n",
    "        for z in range(d.shape[2]):\n",
    "            if  d.min()< d[x,y,z]< d.mean():\n",
    "                f[x,y,z]=25\n",
    "            elif d.mean()< d[x,y,z] <d.max():\n",
    "                f[x,y,z]='75'\n",
    "            elif d[x,y,z]==d.max():\n",
    "                f[x,y,z]= 100\n",
    "            elif d[x,y,z]<=d.min():\n",
    "                f[x,y,z]=0\n",
    "            else: \n",
    "                f[x,y,z]=50\n",
    "print(f)"
   ]
  },
  {
   "cell_type": "markdown",
   "metadata": {},
   "source": [
    "#### 17. Print *d* and *f*. Do you have your expected *f*?\n",
    "For instance, if your *d* is:\n",
    "```python\n",
    "[[[1.85836099, 1.67064465, 1.62576044, 1.40243961, 1.88454931],\n",
    "  [1.75354326, 1.69403643, 1.36729252, 1.61415071, 1.12104981]],\n",
    " \n",
    " [[1.72201435, 1.1862918 , 1.87078449, 1.7726778 , 1.88180042],\n",
    "  [1.44747908, 1.31673383, 1.02000951, 1.52218947, 1.97066381]],\n",
    " \n",
    " [[1.79129243, 1.74983003, 1.96028037, 1.85166831, 1.65450881],\n",
    "  [1.18068344, 1.9587381 , 1.00656599, 1.93402165, 1.73514584]]]\n",
    "```\n",
    "Your *f* should be:\n",
    "```python\n",
    "[[[ 75.,  75.,  75.,  25.,  75.],\n",
    "  [ 75.,  75.,  25.,  25.,  25.]],\n",
    " \n",
    " [[ 75.,  25.,  75.,  75.,  75.],\n",
    "  [ 25.,  25.,  25.,  25., 100.]],\n",
    "\n",
    " [[ 75.,  75.,  75.,  75.,  75.],\n",
    "  [ 25.,  75.,   0.,  75.,  75.]]]\n",
    "```"
   ]
  },
  {
   "cell_type": "code",
   "execution_count": null,
   "metadata": {},
   "outputs": [],
   "source": [
    "# nAo funcionou para os numeros exatos e os numeros foram transformados in float"
   ]
  },
  {
   "cell_type": "markdown",
   "metadata": {},
   "source": [
    "#### 18. Bonus question: instead of using numbers (i.e. 0, 25, 50, 75, and 100), use string values  (\"A\", \"B\", \"C\", \"D\", and \"E\") to label the array elements. For the example above, the expected result is:\n",
    "\n",
    "```python\n",
    "[[[ 'D',  'D',  'D',  'B',  'D'],\n",
    "  [ 'D',  'D',  'B',  'B',  'B']],\n",
    " \n",
    " [[ 'D',  'B',  'D',  'D',  'D'],\n",
    "  [ 'B',  'B',  'B',  'B',  'E']],\n",
    "\n",
    " [[ 'D',  'D',  'D',  'D',  'D'],\n",
    "  [ 'B',  'D',   'A',  'D', 'D']]]\n",
    "```\n",
    "**Note**: you don't have to use Numpy in this question."
   ]
  },
  {
   "cell_type": "code",
   "execution_count": 173,
   "metadata": {},
   "outputs": [
    {
     "name": "stdout",
     "output_type": "stream",
     "text": [
      "[[[1.26476157 1.30757837 1.57032887 1.43207973 1.34120948]\n",
      "  [1.07232209 1.02363713 1.19400814 1.28849411 1.14572235]]\n",
      "\n",
      " [[1.88214857 1.95089857 1.85009171 1.45892087 1.71032863]\n",
      "  [1.10946117 1.74546309 1.63439448 1.70805121 1.32878782]]\n",
      "\n",
      " [[1.73575724 1.51393746 1.65978136 1.98855385 1.51971102]\n",
      "  [1.40988149 1.98102419 1.25346549 1.1187377  1.5849279 ]]]\n"
     ]
    }
   ],
   "source": [
    "print(d)"
   ]
  },
  {
   "cell_type": "code",
   "execution_count": 34,
   "metadata": {},
   "outputs": [
    {
     "name": "stdout",
     "output_type": "stream",
     "text": [
      "[[['B' 'B' 'D' 'B' 'B']\n",
      "  ['B' 'D' 'D' 'D' 'E']]\n",
      "\n",
      " [['D' 'D' 'B' 'B' 'D']\n",
      "  ['D' 'D' 'A' 'B' 'B']]\n",
      "\n",
      " [['B' 'B' 'D' 'B' 'B']\n",
      "  ['D' 'D' 'B' 'B' 'B']]]\n"
     ]
    }
   ],
   "source": [
    "g=np.empty((3,2,5),dtype=str)\n",
    "for x in range(g.shape[0]):\n",
    "    for y in range(g.shape[1]):\n",
    "        for z in range(g.shape[2]):\n",
    "            if  d.min()< d[x,y,z]< d.mean():\n",
    "                g[x,y,z]=\"B\"\n",
    "            elif d.mean()< d[x,y,z] <d.max():\n",
    "                g[x,y,z]=\"D\"\n",
    "            elif d[x,y,z]==d.max():\n",
    "                g[x,y,z]= \"E\"\n",
    "            elif d[x,y,z]== d.min():\n",
    "                g[x,y,z]=\"A\"\n",
    "            else: \n",
    "                g[x,y,z]=\"C\"\n",
    "print(g)"
   ]
  }
 ],
 "metadata": {
  "kernelspec": {
   "display_name": "Python 3",
   "language": "python",
   "name": "python3"
  },
  "language_info": {
   "codemirror_mode": {
    "name": "ipython",
    "version": 3
   },
   "file_extension": ".py",
   "mimetype": "text/x-python",
   "name": "python",
   "nbconvert_exporter": "python",
   "pygments_lexer": "ipython3",
   "version": "3.7.5"
  }
 },
 "nbformat": 4,
 "nbformat_minor": 2
}
